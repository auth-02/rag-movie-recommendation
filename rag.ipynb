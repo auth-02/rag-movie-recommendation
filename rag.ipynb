{
 "cells": [
  {
   "cell_type": "markdown",
   "metadata": {},
   "source": [
    "### Scrape Data form omdb API"
   ]
  },
  {
   "cell_type": "code",
   "execution_count": 2,
   "metadata": {},
   "outputs": [],
   "source": [
    "# import pandas as pd\n",
    "# import requests\n",
    "# import time\n",
    "\n",
    "# def fetch_movie_data(api_key, movie_ids):\n",
    "#     base_url = 'http://www.omdbapi.com/'\n",
    "#     movie_data = []\n",
    "\n",
    "#     for movie_id in movie_ids:\n",
    "#         response = requests.get(base_url, params={\n",
    "#             'apikey': api_key,\n",
    "#             'i': movie_id,\n",
    "#             'r': 'json',\n",
    "#             'plot': 'full'  # Fetch full plot details\n",
    "#         })\n",
    "#         data = response.json()\n",
    "#         if data.get('Response') == 'True':\n",
    "#             movie_data.append(data)\n",
    "#         else:\n",
    "#             print(f\"Error fetching data for movie ID {movie_id}: {data.get('Error')}\")\n",
    "#         time.sleep(2)  # To respect API rate limits\n",
    "\n",
    "#     return movie_data\n",
    "\n",
    "# def read_csv(file_path):\n",
    "#     df = pd.read_csv(file_path)\n",
    "#     return df['movie_id'].tolist()\n",
    "\n",
    "# def save_to_csv(data, file_path):\n",
    "#     df = pd.DataFrame(data)\n",
    "#     df.to_csv(file_path, index=False)\n",
    "\n",
    "# # api_key = '6463f6d2'\n",
    "# api_key = os.getenv(\"OMDB_API_KEY\")\n",
    "# input_csv = 'hindi_data/IMDB-Movie-Dataset(2023-1951).csv'\n",
    "# output_csv = 'hindi_data/scraped_hindi_movie_data.csv'\n",
    "\n",
    "# movie_ids = read_csv(input_csv)\n",
    "\n",
    "# movie_data = fetch_movie_data(api_key, movie_ids)\n",
    "\n",
    "# save_to_csv(movie_data, output_csv)\n",
    "\n",
    "# print(f\"Data for {len(movie_data)} movies saved to {output_csv}\")\n"
   ]
  },
  {
   "cell_type": "markdown",
   "metadata": {},
   "source": [
    "### RAG - Movie Recomm"
   ]
  },
  {
   "cell_type": "code",
   "execution_count": 1,
   "metadata": {},
   "outputs": [
    {
     "data": {
      "text/plain": [
       "True"
      ]
     },
     "execution_count": 1,
     "metadata": {},
     "output_type": "execute_result"
    }
   ],
   "source": [
    "import os\n",
    "from dotenv import load_dotenv\n",
    "load_dotenv()"
   ]
  },
  {
   "cell_type": "code",
   "execution_count": 2,
   "metadata": {},
   "outputs": [
    {
     "name": "stderr",
     "output_type": "stream",
     "text": [
      "c:\\Users\\auth\\OneDrive\\Desktop\\movieRecomm\\venv\\Lib\\site-packages\\pinecone\\data\\index.py:1: TqdmWarning: IProgress not found. Please update jupyter and ipywidgets. See https://ipywidgets.readthedocs.io/en/stable/user_install.html\n",
      "  from tqdm.autonotebook import tqdm\n"
     ]
    }
   ],
   "source": [
    "# Langchain\n",
    "from langchain_community.document_loaders import DirectoryLoader\n",
    "from langchain_community.document_loaders.csv_loader import CSVLoader\n",
    "from langchain.chains.query_constructor.base import AttributeInfo\n",
    "\n",
    "from langchain_pinecone import PineconeVectorStore\n",
    "from langchain_core.prompts import ChatPromptTemplate\n",
    "from langchain_core.runnables import RunnablePassthrough\n",
    "from tqdm.autonotebook import tqdm"
   ]
  },
  {
   "cell_type": "code",
   "execution_count": 3,
   "metadata": {},
   "outputs": [],
   "source": [
    "from langchain.text_splitter import RecursiveCharacterTextSplitter\n",
    "from pinecone import Pinecone"
   ]
  },
  {
   "cell_type": "code",
   "execution_count": 4,
   "metadata": {},
   "outputs": [
    {
     "name": "stderr",
     "output_type": "stream",
     "text": [
      "100%|██████████| 1/1 [00:00<00:00, 11.90it/s]\n"
     ]
    }
   ],
   "source": [
    "loader = DirectoryLoader(\n",
    "    path=\"./hindi_data/final data\",\n",
    "    loader_cls=CSVLoader,\n",
    "    show_progress=True)\n",
    "\n",
    "docs = loader.load()\n"
   ]
  },
  {
   "cell_type": "code",
   "execution_count": 5,
   "metadata": {},
   "outputs": [],
   "source": [
    "\n",
    "metadata_field_info = [\n",
    "    AttributeInfo(name=\"Title\", description=\"The title of the movie\", type=\"string\"),\n",
    "    AttributeInfo(name=\"Year\", description=\"The year the movie was released\", type=\"integer\"),\n",
    "    AttributeInfo(name=\"Released\", description=\"The release date of the movie\", type=\"string\"),\n",
    "    AttributeInfo(name=\"Runtime\", description=\"The runtime of the movie in minutes\", type=\"string\"),\n",
    "    AttributeInfo(name=\"Genre\", description=\"The genre of the movie\", type=\"string\"),\n",
    "    AttributeInfo(name=\"Director\", description=\"The director of the movie\", type=\"string\"),\n",
    "    AttributeInfo(name=\"Actors\", description=\"The actors in the movie\", type=\"string\"),\n",
    "    AttributeInfo(name=\"Plot\", description=\"The plot of the movie\", type=\"string\"),\n",
    "    AttributeInfo(name=\"Poster\", description=\"The URL of the movie poster\", type=\"string\"),\n",
    "    AttributeInfo(name=\"Ratings\", description=\"The ratings of the movie\", type=\"string\"),\n",
    "    AttributeInfo(name=\"imdbRating\", description=\"The IMDb rating of the movie\", type=\"string\"),\n",
    "    AttributeInfo(name=\"imdbID\", description=\"The IMDb ID of the movie\", type=\"string\"),\n",
    "    AttributeInfo(name=\"Website\", description=\"The official website\", type=\"string\")\n",
    "]"
   ]
  },
  {
   "cell_type": "code",
   "execution_count": 6,
   "metadata": {},
   "outputs": [],
   "source": [
    "fields_to_convert_list = [\"Genre\", \"Actors\", \"Ratings\"]\n",
    "fields_to_convert_int = [\"Year\", \"imdbRating\"]"
   ]
  },
  {
   "cell_type": "code",
   "execution_count": 7,
   "metadata": {},
   "outputs": [],
   "source": [
    "def convert_to_list(doc, field):\n",
    "    if field in doc.metadata and doc.metadata[field]:\n",
    "        doc.metadata[field] = doc.metadata[field].split(\", \")\n",
    "\n",
    "def convert_to_int(doc, field):\n",
    "    if field in doc.metadata and doc.metadata[field]:\n",
    "        try:\n",
    "            doc.metadata[field] = int(doc.metadata[field])\n",
    "        except ValueError:\n",
    "            pass "
   ]
  },
  {
   "cell_type": "code",
   "execution_count": 8,
   "metadata": {},
   "outputs": [],
   "source": [
    "for doc in docs:\n",
    "\n",
    "    page_content_dict = dict(line.split(\": \", 1)\n",
    "                            for line in doc.page_content.split(\"\\n\") if \": \" in line)\n",
    "    \n",
    "\n",
    "    doc.page_content = 'Overview: ' + page_content_dict.get('Plot', '') + '. Keywords: ' + page_content_dict.get('Genre', '')\n",
    "    \n",
    "\n",
    "    doc.metadata = {field.name: page_content_dict.get(field.name) for field in metadata_field_info}\n",
    "    \n",
    "    for field in fields_to_convert_list:\n",
    "        convert_to_list(doc, field)\n",
    "    \n",
    "    for field in fields_to_convert_int:\n",
    "        convert_to_int(doc, field)"
   ]
  },
  {
   "cell_type": "code",
   "execution_count": 9,
   "metadata": {},
   "outputs": [
    {
     "data": {
      "text/plain": [
       "979"
      ]
     },
     "execution_count": 9,
     "metadata": {},
     "output_type": "execute_result"
    }
   ],
   "source": [
    "len(docs)"
   ]
  },
  {
   "cell_type": "code",
   "execution_count": 10,
   "metadata": {},
   "outputs": [
    {
     "data": {
      "text/plain": [
       "Document(page_content=\"Overview: When Raj (Shah Rukh Khan) and Simran (Kajol) first met on an inter-rail holiday in Europe, it wasn't exactly Love at first sight but when Simran is taken back to India for an arranged marriage, things change. Encouraged by his father Dharamvir (Anupam Kher), Raj decides to fly down from London to not just win his Bride but her whole family and the blessings of her father Baldev Singh (Amrish Puri).. Keywords: Drama, Romance\", metadata={'Title': 'Dilwale Dulhania Le Jayenge', 'Year': 1995, 'Released': '20 Oct 1995', 'Runtime': '181 min', 'Genre': ['Drama', 'Romance'], 'Director': 'Aditya Chopra', 'Actors': ['Shah Rukh Khan', 'Kajol', 'Amrish Puri'], 'Plot': \"When Raj (Shah Rukh Khan) and Simran (Kajol) first met on an inter-rail holiday in Europe, it wasn't exactly Love at first sight but when Simran is taken back to India for an arranged marriage, things change. Encouraged by his father Dharamvir (Anupam Kher), Raj decides to fly down from London to not just win his Bride but her whole family and the blessings of her father Baldev Singh (Amrish Puri).\", 'Poster': 'https://m.media-amazon.com/images/M/MV5BMDQ2ZmE2NTMtZDE3NC00YzFjLWJhNmEtMDEzMTI5ZjU2ZGM0XkEyXkFqcGdeQXVyNTkzNDQ4ODc@._V1_SX300.jpg', 'Ratings': [\"[{'Source': 'Internet Movie Database'\", \"'Value': '8.0/10'}\", \"{'Source': 'Rotten Tomatoes'\", \"'Value': '100%'}]\"], 'imdbRating': '8.0', 'imdbID': 'tt0112870', 'Website': 'N/A'})"
      ]
     },
     "execution_count": 10,
     "metadata": {},
     "output_type": "execute_result"
    }
   ],
   "source": [
    "docs[111]"
   ]
  },
  {
   "cell_type": "code",
   "execution_count": 11,
   "metadata": {},
   "outputs": [
    {
     "data": {
      "text/plain": [
       "\"Overview: When Raj (Shah Rukh Khan) and Simran (Kajol) first met on an inter-rail holiday in Europe, it wasn't exactly Love at first sight but when Simran is taken back to India for an arranged marriage, things change. Encouraged by his father Dharamvir (Anupam Kher), Raj decides to fly down from London to not just win his Bride but her whole family and the blessings of her father Baldev Singh (Amrish Puri).. Keywords: Drama, Romance\""
      ]
     },
     "execution_count": 11,
     "metadata": {},
     "output_type": "execute_result"
    }
   ],
   "source": [
    "docs[111].page_content"
   ]
  },
  {
   "cell_type": "code",
   "execution_count": 12,
   "metadata": {},
   "outputs": [
    {
     "data": {
      "text/plain": [
       "{'Title': 'Dilwale Dulhania Le Jayenge',\n",
       " 'Year': 1995,\n",
       " 'Released': '20 Oct 1995',\n",
       " 'Runtime': '181 min',\n",
       " 'Genre': ['Drama', 'Romance'],\n",
       " 'Director': 'Aditya Chopra',\n",
       " 'Actors': ['Shah Rukh Khan', 'Kajol', 'Amrish Puri'],\n",
       " 'Plot': \"When Raj (Shah Rukh Khan) and Simran (Kajol) first met on an inter-rail holiday in Europe, it wasn't exactly Love at first sight but when Simran is taken back to India for an arranged marriage, things change. Encouraged by his father Dharamvir (Anupam Kher), Raj decides to fly down from London to not just win his Bride but her whole family and the blessings of her father Baldev Singh (Amrish Puri).\",\n",
       " 'Poster': 'https://m.media-amazon.com/images/M/MV5BMDQ2ZmE2NTMtZDE3NC00YzFjLWJhNmEtMDEzMTI5ZjU2ZGM0XkEyXkFqcGdeQXVyNTkzNDQ4ODc@._V1_SX300.jpg',\n",
       " 'Ratings': [\"[{'Source': 'Internet Movie Database'\",\n",
       "  \"'Value': '8.0/10'}\",\n",
       "  \"{'Source': 'Rotten Tomatoes'\",\n",
       "  \"'Value': '100%'}]\"],\n",
       " 'imdbRating': '8.0',\n",
       " 'imdbID': 'tt0112870',\n",
       " 'Website': 'N/A'}"
      ]
     },
     "execution_count": 12,
     "metadata": {},
     "output_type": "execute_result"
    }
   ],
   "source": [
    "docs[111].metadata"
   ]
  },
  {
   "cell_type": "code",
   "execution_count": 13,
   "metadata": {},
   "outputs": [],
   "source": [
    "text_splitter = RecursiveCharacterTextSplitter(chunk_size=1000, chunk_overlap=100)\n",
    "documents = text_splitter.split_documents(docs)"
   ]
  },
  {
   "cell_type": "code",
   "execution_count": 14,
   "metadata": {},
   "outputs": [
    {
     "data": {
      "text/plain": [
       "1118"
      ]
     },
     "execution_count": 14,
     "metadata": {},
     "output_type": "execute_result"
    }
   ],
   "source": [
    "len(documents)"
   ]
  },
  {
   "cell_type": "code",
   "execution_count": 15,
   "metadata": {},
   "outputs": [],
   "source": [
    "pinecone_api_key = os.getenv(\"PINECONE_API_KEY\")\n",
    "pc = Pinecone(api_key=pinecone_api_key)"
   ]
  },
  {
   "cell_type": "code",
   "execution_count": 16,
   "metadata": {},
   "outputs": [],
   "source": [
    "from langchain_community.llms import Ollama\n",
    "from langchain_community.embeddings import OllamaEmbeddings\n",
    "\n",
    "embeddings = OllamaEmbeddings(model=\"llama3\")\n",
    "\n",
    "llm = Ollama(model=\"llama3\",\n",
    "            temperature=0,\n",
    "            # streaming=True,\n",
    ")"
   ]
  },
  {
   "cell_type": "code",
   "execution_count": 17,
   "metadata": {},
   "outputs": [],
   "source": [
    "# import google.generativeai as genai\n",
    "# from dotenv import load_dotenv\n",
    "# import os\n",
    "# from langchain_google_genai import ChatGoogleGenerativeAI\n",
    "\n",
    "# load_dotenv()\n",
    "# genai.configure(api_key=os.getenv(\"GOOGLE_API_KEY\"))\n",
    "# llm = ChatGoogleGenerativeAI(model=\"gemini-pro\")"
   ]
  },
  {
   "cell_type": "code",
   "execution_count": 18,
   "metadata": {},
   "outputs": [],
   "source": [
    "# from langchain_google_genai import GoogleGenerativeAIEmbeddings\n",
    "\n",
    "# embeddings=GoogleGenerativeAIEmbeddings(model = \"models/embedding-001\")"
   ]
  },
  {
   "cell_type": "code",
   "execution_count": 19,
   "metadata": {},
   "outputs": [],
   "source": [
    "temp = documents[0:31]"
   ]
  },
  {
   "cell_type": "code",
   "execution_count": 20,
   "metadata": {},
   "outputs": [
    {
     "data": {
      "text/plain": [
       "[Document(page_content='Overview: A prison warden recruits inmates to commit outrageous crimes that shed light on corruption and injustice - and that lead him to an unexpected reunion.. Keywords: Action, Drama, Musical', metadata={'Title': 'Jawan', 'Year': 2023, 'Released': '07 Sep 2023', 'Runtime': '169 min', 'Genre': ['Action', 'Drama', 'Musical'], 'Director': 'Atlee', 'Actors': ['Shah Rukh Khan', 'Nayanthara', 'Vijay Sethupathi'], 'Plot': 'A prison warden recruits inmates to commit outrageous crimes that shed light on corruption and injustice - and that lead him to an unexpected reunion.', 'Poster': 'https://m.media-amazon.com/images/M/MV5BOWI5NmU3NTUtOTZiMS00YzA1LThlYTktNDJjYTU5NDFiMDUxXkEyXkFqcGdeQXVyMTUzNjEwNjM2._V1_SX300.jpg', 'Ratings': [\"[{'Source': 'Internet Movie Database'\", \"'Value': '7.0/10'}]\"], 'imdbRating': '7.0', 'imdbID': 'tt15354916', 'Website': 'N/A'}),\n",
       " Document(page_content='Overview: A single mother and her daughter commit a crime and a neighbor helps them cover it up amid the police investigation.. Keywords: Crime, Drama, Mystery', metadata={'Title': 'Jaane Jaan', 'Year': 2023, 'Released': '21 Sep 2023', 'Runtime': '139 min', 'Genre': ['Crime', 'Drama', 'Mystery'], 'Director': 'Sujoy Ghosh', 'Actors': ['Kareena Kapoor', 'Jaideep Ahlawat', 'Vijay Varma'], 'Plot': 'A single mother and her daughter commit a crime and a neighbor helps them cover it up amid the police investigation.', 'Poster': 'https://m.media-amazon.com/images/M/MV5BMTNmMmY5NzAtNTdjOC00Y2JiLThjZDQtNDEzODQ5MWQ4NWFhXkEyXkFqcGdeQXVyODE5NzE3OTE@._V1_SX300.jpg', 'Ratings': [\"[{'Source': 'Internet Movie Database'\", \"'Value': '7.0/10'}]\"], 'imdbRating': '7.0', 'imdbID': 'tt15748830', 'Website': 'N/A'}),\n",
       " Document(page_content=\"Overview: A retired jailer goes on a manhunt to find his son's killers. But the road leads him to a familiar, albeit a bit darker place. Can he emerge from this complex situation successfully?. Keywords: Action, Comedy, Crime\", metadata={'Title': 'Jailer', 'Year': 2023, 'Released': '10 Aug 2023', 'Runtime': '168 min', 'Genre': ['Action', 'Comedy', 'Crime'], 'Director': 'Nelson Dilipkumar', 'Actors': ['Rajinikanth', 'Mohanlal', 'Shivarajkumar'], 'Plot': \"A retired jailer goes on a manhunt to find his son's killers. But the road leads him to a familiar, albeit a bit darker place. Can he emerge from this complex situation successfully?\", 'Poster': 'https://m.media-amazon.com/images/M/MV5BNzFkNmZkMTctYjRhMS00ODZiLWFlNjQtZmZmN2IzMDJlNmVkXkEyXkFqcGdeQXVyMTY1MzAyNjU4._V1_SX300.jpg', 'Ratings': [\"[{'Source': 'Internet Movie Database'\", \"'Value': '7.1/10'}]\"], 'imdbRating': '7.1', 'imdbID': 'tt11663228', 'Website': 'N/A'}),\n",
       " Document(page_content='Overview: A sensual love story between a boy who belongs to rich, upper class family, the heir to Dhanlaxmi Enterprises, lives in a lavish mansion in Gurgaon called House Gurgaon and a middle class girl who lives in a lousy fort. They fall in love with each other but their parents are unhappy of this union.. Keywords: Comedy, Drama, Family', metadata={'Title': 'Rocky Aur Rani Kii Prem Kahaani', 'Year': 2023, 'Released': '28 Jul 2023', 'Runtime': '168 min', 'Genre': ['Comedy', 'Drama', 'Family'], 'Director': 'Karan Johar', 'Actors': ['Ranveer Singh', 'Alia Bhatt', 'Dharmendra'], 'Plot': 'A sensual love story between a boy who belongs to rich, upper class family, the heir to Dhanlaxmi Enterprises, lives in a lavish mansion in Gurgaon called House Gurgaon and a middle class girl who lives in a lousy fort. They fall in love with each other but their parents are unhappy of this union.', 'Poster': 'https://m.media-amazon.com/images/M/MV5BNzAyOWQ4MjUtMGNkMi00ODBkLWEyZDgtY2Q0YjJhYjg3MzNlXkEyXkFqcGdeQXVyMTUxMTM3OTc1._V1_SX300.jpg', 'Ratings': [\"[{'Source': 'Internet Movie Database'\", \"'Value': '6.6/10'}]\"], 'imdbRating': '6.6', 'imdbID': 'tt14993250', 'Website': 'N/A'}),\n",
       " Document(page_content='Overview: An unhappy civilian asks the court to mandate comprehensive education in schools in a dramatic yet amusing courtroom play.. Keywords: Comedy, Drama', metadata={'Title': 'OMG 2', 'Year': 2023, 'Released': '11 Aug 2023', 'Runtime': '156 min', 'Genre': ['Comedy', 'Drama'], 'Director': 'Amit Rai', 'Actors': ['Akshay Kumar', 'Pankaj Tripathi', 'Yami Gautam'], 'Plot': 'An unhappy civilian asks the court to mandate comprehensive education in schools in a dramatic yet amusing courtroom play.', 'Poster': 'https://m.media-amazon.com/images/M/MV5BNmQ3MThkOWEtNTA0NC00YzI2LWIxZjEtZjdlZTVmNzQ2ZGViXkEyXkFqcGdeQXVyODE5NzE3OTE@._V1_SX300.jpg', 'Ratings': [\"[{'Source': 'Internet Movie Database'\", \"'Value': '7.6/10'}]\"], 'imdbRating': '7.6', 'imdbID': 'tt15732324', 'Website': 'N/A'}),\n",
       " Document(page_content='Overview: Much to the dismay of her husband, a middle-class housewife, known for her rebellious attitude in high school, decides to attend her class reunion.. Keywords: Drama', metadata={'Title': 'Sukhee', 'Year': 2023, 'Released': '22 Sep 2023', 'Runtime': '139 min', 'Genre': ['Drama'], 'Director': 'Sonal Joshi', 'Actors': ['Shilpa Shetty Kundra', 'Kusha Kapila', 'Amit Sadh'], 'Plot': 'Much to the dismay of her husband, a middle-class housewife, known for her rebellious attitude in high school, decides to attend her class reunion.', 'Poster': 'https://m.media-amazon.com/images/M/MV5BMzk4MDMwNzUtYzk0Yy00NGJiLWIxMTQtYjZhOGU5ZmNjYWEyXkEyXkFqcGdeQXVyOTI3MzI4MzA@._V1_SX300.jpg', 'Ratings': [\"[{'Source': 'Internet Movie Database'\", \"'Value': '6.6/10'}]\"], 'imdbRating': '6.6', 'imdbID': 'tt18266472', 'Website': 'N/A'}),\n",
       " Document(page_content='Overview: Ved Vyas Tripathi, aka Bhajan Kumar, is a devout Hindu man who faces an identity crisis and a personal dilemma when he discovers he is actually a Muslim by birth.. Keywords: Family', metadata={'Title': 'The Great Indian Family', 'Year': 2023, 'Released': '22 Sep 2023', 'Runtime': '112 min', 'Genre': ['Family'], 'Director': 'Vijay Krishna Acharya', 'Actors': ['Vicky Kaushal', 'Manushi Chhillar', 'Kumud Mishra'], 'Plot': 'Ved Vyas Tripathi, aka Bhajan Kumar, is a devout Hindu man who faces an identity crisis and a personal dilemma when he discovers he is actually a Muslim by birth.', 'Poster': 'https://m.media-amazon.com/images/M/MV5BYTk3MGEyOWEtMjFjZC00YzZhLWI5ZWQtMjE3NmE1ZGI3M2E3XkEyXkFqcGdeQXVyNTkzNDQ4ODc@._V1_SX300.jpg', 'Ratings': [\"[{'Source': 'Internet Movie Database'\", \"'Value': '5.7/10'}]\"], 'imdbRating': '5.7', 'imdbID': 'tt18561736', 'Website': 'N/A'}),\n",
       " Document(page_content=\"Overview: Ten-year-old Sophie is in for the adventure of a lifetime when she meets the Big Friendly Giant. Naturally scared at first, the young girl soon realizes that the twenty-four-foot behemoth is actually quite gentle and charming. As their friendship grows, Sophie's presence attracts the unwanted attention of Bloodbottler, Fleshlumpeater, and other giants. After travelling to London, Sophie and the BFG must convince Queen Elizabeth to help them get rid of all of the bad giants once and for all.. Keywords: Adventure, Family, Fantasy\", metadata={'Title': 'The BFG', 'Year': 2016, 'Released': '01 Jul 2016', 'Runtime': '117 min', 'Genre': ['Adventure', 'Family', 'Fantasy'], 'Director': 'Steven Spielberg', 'Actors': ['Mark Rylance', 'Ruby Barnhill', 'Penelope Wilton'], 'Plot': \"Ten-year-old Sophie is in for the adventure of a lifetime when she meets the Big Friendly Giant. Naturally scared at first, the young girl soon realizes that the twenty-four-foot behemoth is actually quite gentle and charming. As their friendship grows, Sophie's presence attracts the unwanted attention of Bloodbottler, Fleshlumpeater, and other giants. After travelling to London, Sophie and the BFG must convince Queen Elizabeth to help them get rid of all of the bad giants once and for all.\", 'Poster': 'https://m.media-amazon.com/images/M/MV5BNjAzOTUzNTY3Ml5BMl5BanBnXkFtZTgwMjYwNzE5ODE@._V1_SX300.jpg', 'Ratings': [\"[{'Source': 'Internet Movie Database'\", \"'Value': '6.3/10'}\", \"{'Source': 'Rotten Tomatoes'\", \"'Value': '74%'}\", \"{'Source': 'Metacritic'\", \"'Value': '66/100'}]\"], 'imdbRating': '6.3', 'imdbID': 'tt3691740', 'Website': 'N/A'}),\n",
       " Document(page_content='Overview: An Indian agent races against a doomsday clock as a ruthless mercenary, with a bitter vendetta, mounts an apocalyptic attack against the country.. Keywords: Action, Adventure, Thriller', metadata={'Title': 'Pathaan', 'Year': 2023, 'Released': '25 Jan 2023', 'Runtime': '146 min', 'Genre': ['Action', 'Adventure', 'Thriller'], 'Director': 'Siddharth Anand', 'Actors': ['Shah Rukh Khan', 'Deepika Padukone', 'John Abraham'], 'Plot': 'An Indian agent races against a doomsday clock as a ruthless mercenary, with a bitter vendetta, mounts an apocalyptic attack against the country.', 'Poster': 'https://m.media-amazon.com/images/M/MV5BYTgzNjBjYTctOGJiZi00MTliLTk0YzYtNDJmYTQyMDdkMjQ5XkEyXkFqcGdeQXVyNTkzNDQ4ODc@._V1_SX300.jpg', 'Ratings': [\"[{'Source': 'Internet Movie Database'\", \"'Value': '5.8/10'}\", \"{'Source': 'Metacritic'\", \"'Value': '47/100'}]\"], 'imdbRating': '5.8', 'imdbID': 'tt12844910', 'Website': 'N/A'}),\n",
       " Document(page_content=\"Overview: Set in 1739, Nadar Shah's undefeated army was attacked by Sikh Rebellions. Nadar demands to arrest them but it doesn't work out. Five ordinary men are hired to play Sikh Rebellions but over time they learn what Sikhs are.. Keywords: Action, Drama, History\", metadata={'Title': 'Mastaney', 'Year': 2023, 'Released': '25 Aug 2023', 'Runtime': '150 min', 'Genre': ['Action', 'Drama', 'History'], 'Director': 'Sharan Art', 'Actors': ['Tarsem Jassar', 'Simi Chahal', 'Gurpreet Ghuggi'], 'Plot': \"Set in 1739, Nadar Shah's undefeated army was attacked by Sikh Rebellions. Nadar demands to arrest them but it doesn't work out. Five ordinary men are hired to play Sikh Rebellions but over time they learn what Sikhs are.\", 'Poster': 'https://m.media-amazon.com/images/M/MV5BYTZjMWEwM2EtZmZhYi00MGZlLWI4MWEtYjkxODBmZDJmNzEyXkEyXkFqcGdeQXVyODQwMDcwNDY@._V1_SX300.jpg', 'Ratings': [\"[{'Source': 'Internet Movie Database'\", \"'Value': '7.6/10'}]\"], 'imdbRating': '7.6', 'imdbID': 'tt15464390', 'Website': 'N/A'}),\n",
       " Document(page_content=\"Overview: Farhan Qureshi and Raju Rastogi want to re-unite with their fellow collegian, Rancho, after faking a stroke aboard an Air India plane, and excusing himself from his wife - trouser less - respectively. Enroute, they encounter another student, Chatur Ramalingam, now a successful businessman, who reminds them of a bet they had undertaken 10 years ago. The trio, while recollecting hilarious antics, including their run-ins with the Dean of Delhi's Imperial College of Engineering, Viru Sahastrabudhe, race to locate Rancho, at his last known address - little knowing the secret that was kept from them all this time.. Keywords: Comedy, Drama\", metadata={'Title': '3 Idiots', 'Year': 2009, 'Released': '25 Dec 2009', 'Runtime': '170 min', 'Genre': ['Comedy', 'Drama'], 'Director': 'Rajkumar Hirani', 'Actors': ['Aamir Khan', 'Madhavan', 'Mona Singh'], 'Plot': \"Farhan Qureshi and Raju Rastogi want to re-unite with their fellow collegian, Rancho, after faking a stroke aboard an Air India plane, and excusing himself from his wife - trouser less - respectively. Enroute, they encounter another student, Chatur Ramalingam, now a successful businessman, who reminds them of a bet they had undertaken 10 years ago. The trio, while recollecting hilarious antics, including their run-ins with the Dean of Delhi's Imperial College of Engineering, Viru Sahastrabudhe, race to locate Rancho, at his last known address - little knowing the secret that was kept from them all this time.\", 'Poster': 'https://m.media-amazon.com/images/M/MV5BNTkyOGVjMGEtNmQzZi00NzFlLTlhOWQtODYyMDc2ZGJmYzFhXkEyXkFqcGdeQXVyNjU0OTQ0OTY@._V1_SX300.jpg', 'Ratings': [\"[{'Source': 'Internet Movie Database'\", \"'Value': '8.4/10'}\", \"{'Source': 'Rotten Tomatoes'\", \"'Value': '100%'}\", \"{'Source': 'Metacritic'\", \"'Value': '67/100'}]\"], 'imdbRating': '8.4', 'imdbID': 'tt1187043', 'Website': 'N/A'}),\n",
       " Document(page_content=\"Overview: A middle-class boy in Ahmedabad, Satyaprem falling in one-sided love with Katha, who is coping with her breakup with Tapan. Through the journey, they discover each other's life and complement in accomplishing what was left halfway.. Keywords: Comedy, Drama, Musical\", metadata={'Title': 'Satyaprem Ki Katha', 'Year': 2023, 'Released': '29 Jun 2023', 'Runtime': '146 min', 'Genre': ['Comedy', 'Drama', 'Musical'], 'Director': 'Sameer Vidwans', 'Actors': ['Kartik Aaryan', 'Kiara Advani', 'Supriya Pathak'], 'Plot': \"A middle-class boy in Ahmedabad, Satyaprem falling in one-sided love with Katha, who is coping with her breakup with Tapan. Through the journey, they discover each other's life and complement in accomplishing what was left halfway.\", 'Poster': 'https://m.media-amazon.com/images/M/MV5BNTJiM2U3NTctNTAwNi00ZmQ5LThmNDUtYjI4MDdhYzQ5ZmExXkEyXkFqcGdeQXVyMTU0ODI1NTA2._V1_SX300.jpg', 'Ratings': [\"[{'Source': 'Internet Movie Database'\", \"'Value': '6.8/10'}]\"], 'imdbRating': '6.8', 'imdbID': 'tt14914988', 'Website': 'N/A'}),\n",
       " Document(page_content='Overview: In 1986, Saroo was a five-year-old child in India of a poor but happy rural family. On a trip with his brother, Saroo soon finds himself alone and trapped in a moving decommissioned passenger train that takes him to Calcutta, 1000 miles away from home. Now totally lost in an alien urban environment and too young to identify either himself or his home to the authorities, Saroo struggles to survive as a street child until he is sent to an orphanage. Soon, Saroo is selected to be adopted by the Brierley family in Tasmania, where he grows up in a loving, prosperous home. However, for all his material good fortune, Saroo finds himself plagued by his memories of his lost family in his adulthood and tries to search for them even as his guilt drives him to hide this quest from his adoptive parents and his girlfriend. Only when he has an epiphany does he realize not only the answers he needs, but also the steadfast love that he has always had with all his loved ones in both worlds..', metadata={'Title': 'Lion', 'Year': 2016, 'Released': '06 Jan 2017', 'Runtime': '118 min', 'Genre': ['Biography', 'Drama'], 'Director': 'Garth Davis', 'Actors': ['Dev Patel', 'Nicole Kidman', 'Rooney Mara'], 'Plot': 'In 1986, Saroo was a five-year-old child in India of a poor but happy rural family. On a trip with his brother, Saroo soon finds himself alone and trapped in a moving decommissioned passenger train that takes him to Calcutta, 1000 miles away from home. Now totally lost in an alien urban environment and too young to identify either himself or his home to the authorities, Saroo struggles to survive as a street child until he is sent to an orphanage. Soon, Saroo is selected to be adopted by the Brierley family in Tasmania, where he grows up in a loving, prosperous home. However, for all his material good fortune, Saroo finds himself plagued by his memories of his lost family in his adulthood and tries to search for them even as his guilt drives him to hide this quest from his adoptive parents and his girlfriend. Only when he has an epiphany does he realize not only the answers he needs, but also the steadfast love that he has always had with all his loved ones in both worlds.', 'Poster': 'https://m.media-amazon.com/images/M/MV5BMjA3NjkzNjg2MF5BMl5BanBnXkFtZTgwMDkyMzgzMDI@._V1_SX300.jpg', 'Ratings': [\"[{'Source': 'Internet Movie Database'\", \"'Value': '8.0/10'}\", \"{'Source': 'Rotten Tomatoes'\", \"'Value': '84%'}\", \"{'Source': 'Metacritic'\", \"'Value': '69/100'}]\"], 'imdbRating': '8.0', 'imdbID': 'tt3741834', 'Website': 'N/A'}),\n",
       " Document(page_content='needs, but also the steadfast love that he has always had with all his loved ones in both worlds.. Keywords: Biography, Drama', metadata={'Title': 'Lion', 'Year': 2016, 'Released': '06 Jan 2017', 'Runtime': '118 min', 'Genre': ['Biography', 'Drama'], 'Director': 'Garth Davis', 'Actors': ['Dev Patel', 'Nicole Kidman', 'Rooney Mara'], 'Plot': 'In 1986, Saroo was a five-year-old child in India of a poor but happy rural family. On a trip with his brother, Saroo soon finds himself alone and trapped in a moving decommissioned passenger train that takes him to Calcutta, 1000 miles away from home. Now totally lost in an alien urban environment and too young to identify either himself or his home to the authorities, Saroo struggles to survive as a street child until he is sent to an orphanage. Soon, Saroo is selected to be adopted by the Brierley family in Tasmania, where he grows up in a loving, prosperous home. However, for all his material good fortune, Saroo finds himself plagued by his memories of his lost family in his adulthood and tries to search for them even as his guilt drives him to hide this quest from his adoptive parents and his girlfriend. Only when he has an epiphany does he realize not only the answers he needs, but also the steadfast love that he has always had with all his loved ones in both worlds.', 'Poster': 'https://m.media-amazon.com/images/M/MV5BMjA3NjkzNjg2MF5BMl5BanBnXkFtZTgwMDkyMzgzMDI@._V1_SX300.jpg', 'Ratings': [\"[{'Source': 'Internet Movie Database'\", \"'Value': '8.0/10'}\", \"{'Source': 'Rotten Tomatoes'\", \"'Value': '84%'}\", \"{'Source': 'Metacritic'\", \"'Value': '69/100'}]\"], 'imdbRating': '8.0', 'imdbID': 'tt3741834', 'Website': 'N/A'}),\n",
       " Document(page_content=\"Overview: While attempting to build a life in Kolkata with his sister, a taxi driver must confront his dark past as he faces off against the city's underworld.. Keywords: Action, Crime, Drama\", metadata={'Title': 'Bholaa Shankar', 'Year': 2023, 'Released': '11 Aug 2023', 'Runtime': '159 min', 'Genre': ['Action', 'Crime', 'Drama'], 'Director': 'Meher Ramesh', 'Actors': ['Chiranjeevi', 'Tamannaah Bhatia', 'Keerthy Suresh'], 'Plot': \"While attempting to build a life in Kolkata with his sister, a taxi driver must confront his dark past as he faces off against the city's underworld.\", 'Poster': 'https://m.media-amazon.com/images/M/MV5BYzNjMGYzMmEtYTkzYS00MGE3LThkMTEtYTM2MjM0ZTdjZmYxXkEyXkFqcGdeQXVyMTcyNDY1NDgw._V1_SX300.jpg', 'Ratings': [\"[{'Source': 'Internet Movie Database'\", \"'Value': '3.3/10'}]\"], 'imdbRating': '3.3', 'imdbID': 'tt13131610', 'Website': 'N/A'}),\n",
       " Document(page_content='Overview: In this ZEE5 Original film, a transgender, Haddi moves to Delhi and joins a gang of transgenders and cross-dressers headed by an influential man. But is this move aspirational or driven by revenge?. Keywords: Crime, Drama', metadata={'Title': 'Haddi', 'Year': 2023, 'Released': '07 Sep 2023', 'Runtime': '134 min', 'Genre': ['Crime', 'Drama'], 'Director': 'Akshat Ajay Sharma', 'Actors': ['Nawazuddin Siddiqui', 'Anurag Kashyap', 'Mohd. Zeeshan Ayyub'], 'Plot': 'In this ZEE5 Original film, a transgender, Haddi moves to Delhi and joins a gang of transgenders and cross-dressers headed by an influential man. But is this move aspirational or driven by revenge?', 'Poster': 'https://m.media-amazon.com/images/M/MV5BOGQyMDZkYjYtY2Y0MS00ZjE1LWI3YmItZTY1N2FkNjZmNWNjXkEyXkFqcGdeQXVyMTIyNzY0NTMx._V1_SX300.jpg', 'Ratings': [\"[{'Source': 'Internet Movie Database'\", \"'Value': '6.2/10'}]\"], 'imdbRating': '6.2', 'imdbID': 'tt22188452', 'Website': 'N/A'}),\n",
       " Document(page_content='Overview: When their mother takes off on a business trip, two bickering brothers unite to secretly attend the hottest party of the year before she returns.. Keywords: Comedy, Drama', metadata={'Title': 'Friday Night Plan', 'Year': 2023, 'Released': '01 Sep 2023', 'Runtime': '108 min', 'Genre': ['Comedy', 'Drama'], 'Director': 'Vatsal Neelakantan', 'Actors': ['Babil Khan', 'Amrith Jayan', 'Medha Rana'], 'Plot': 'When their mother takes off on a business trip, two bickering brothers unite to secretly attend the hottest party of the year before she returns.', 'Poster': 'https://m.media-amazon.com/images/M/MV5BN2FlMzA3MjktNjA2Zi00YzUyLWIxYTUtNGQ0MTc0NDA3NTcwXkEyXkFqcGdeQXVyODE5NzE3OTE@._V1_SX300.jpg', 'Ratings': [\"[{'Source': 'Internet Movie Database'\", \"'Value': '6.5/10'}]\"], 'imdbRating': '6.5', 'imdbID': 'tt28568397', 'Website': 'N/A'}),\n",
       " Document(page_content=\"Overview: When a mysterious murder takes place at exiled billionaire Ashish Kapoor's birthday getaway, detective Mira Rao must use all her skill to unravel devious motives as the suspects are Kapoor's close family and friends.. Keywords: Crime, Mystery, Thriller\", metadata={'Title': 'Neeyat', 'Year': 2023, 'Released': '07 Jul 2023', 'Runtime': '134 min', 'Genre': ['Crime', 'Mystery', 'Thriller'], 'Director': 'Anu Menon', 'Actors': ['Vidya Balan', 'Ram Kapoor', 'Rahul Bose'], 'Plot': \"When a mysterious murder takes place at exiled billionaire Ashish Kapoor's birthday getaway, detective Mira Rao must use all her skill to unravel devious motives as the suspects are Kapoor's close family and friends.\", 'Poster': 'https://m.media-amazon.com/images/M/MV5BZDMwYzM5NWItNDU1ZS00MDljLWIxZmQtNDI5MzBlZDJlODBlXkEyXkFqcGdeQXVyNTM1MzM4Nzk@._V1_SX300.jpg', 'Ratings': [\"[{'Source': 'Internet Movie Database'\", \"'Value': '5.3/10'}]\"], 'imdbRating': '5.3', 'imdbID': 'tt21908676', 'Website': 'N/A'}),\n",
       " Document(page_content='Overview: When Tara Singh goes missing during a skirmish and is believed to be captured in Pakistan, his son Jeetey sets out to rescue him and enters a labyrinth from which they both must escape at all costs.. Keywords: Action, Adventure, Drama', metadata={'Title': 'Gadar 2', 'Year': 2023, 'Released': '11 Aug 2023', 'Runtime': '170 min', 'Genre': ['Action', 'Adventure', 'Drama'], 'Director': 'Anil Sharma', 'Actors': ['Sunny Deol', 'Ameesha Patel', 'Utkarsh Sharma'], 'Plot': 'When Tara Singh goes missing during a skirmish and is believed to be captured in Pakistan, his son Jeetey sets out to rescue him and enters a labyrinth from which they both must escape at all costs.', 'Poster': 'https://m.media-amazon.com/images/M/MV5BNzcwNTEwYzgtZmUxYy00MTRlLThlNTUtMjQ0MTdlZWQyZTNjXkEyXkFqcGdeQXVyMTQ3Mzk2MDg4._V1_SX300.jpg', 'Ratings': [\"[{'Source': 'Internet Movie Database'\", \"'Value': '5.2/10'}]\"], 'imdbRating': '5.2', 'imdbID': 'tt15441054', 'Website': 'N/A'}),\n",
       " Document(page_content='Overview: A bright but faint-hearted rookie cop has to overcome his fears in order to succeed in his first case which sees him partnered with a reclusive senior officer to catch a serial killer on the loose.. Keywords: Action, Crime, Thriller', metadata={'Title': 'Por Thozhil', 'Year': 2023, 'Released': '09 Jun 2023', 'Runtime': '147 min', 'Genre': ['Action', 'Crime', 'Thriller'], 'Director': 'Vignesh Raja, T. Senthil Paramasivam', 'Actors': ['R. Sarathkumar', 'Lisha Chinnu', 'Ashok Selvan'], 'Plot': 'A bright but faint-hearted rookie cop has to overcome his fears in order to succeed in his first case which sees him partnered with a reclusive senior officer to catch a serial killer on the loose.', 'Poster': 'https://m.media-amazon.com/images/M/MV5BY2U5ZjQ2MGMtNDI5ZS00NzJjLTg5YTAtMTVhYWQ4MGE4NmQxXkEyXkFqcGdeQXVyMTY1MzAyNjU4._V1_SX300.jpg', 'Ratings': [\"[{'Source': 'Internet Movie Database'\", \"'Value': '8.0/10'}]\"], 'imdbRating': '8.0', 'imdbID': 'tt27542289', 'Website': 'N/A'}),\n",
       " Document(page_content='Overview: In Canada, a writer visits the Indian storyteller Pi Patel and asks him to tell his life story. Pi tells the story of his childhood in Pondicherry, India, and the origin of his nickname. One day, his father, a zoo owner, explains that the municipality is no longer supporting the zoo and he has hence decided to move to Canada, where the animals the family owns would also be sold. They board on a Japanese cargo ship with the animals and out of the blue, there is a storm, followed by a shipwrecking. Pi survives in a lifeboat with a zebra, an orangutan, a hyena and a male Bengal tiger nicknamed Richard Parker. They are adrift in the Pacific Ocean, with aggressive hyena and Richard Parker getting hungry. Pi needs to find a way to survive.. Keywords: Adventure, Drama, Fantasy', metadata={'Title': 'Life of Pi', 'Year': 2012, 'Released': '21 Nov 2012', 'Runtime': '127 min', 'Genre': ['Adventure', 'Drama', 'Fantasy'], 'Director': 'Ang Lee', 'Actors': ['Suraj Sharma', 'Irrfan Khan', 'Adil Hussain'], 'Plot': 'In Canada, a writer visits the Indian storyteller Pi Patel and asks him to tell his life story. Pi tells the story of his childhood in Pondicherry, India, and the origin of his nickname. One day, his father, a zoo owner, explains that the municipality is no longer supporting the zoo and he has hence decided to move to Canada, where the animals the family owns would also be sold. They board on a Japanese cargo ship with the animals and out of the blue, there is a storm, followed by a shipwrecking. Pi survives in a lifeboat with a zebra, an orangutan, a hyena and a male Bengal tiger nicknamed Richard Parker. They are adrift in the Pacific Ocean, with aggressive hyena and Richard Parker getting hungry. Pi needs to find a way to survive.', 'Poster': 'https://m.media-amazon.com/images/M/MV5BNTg2OTY2ODg5OF5BMl5BanBnXkFtZTcwODM5MTYxOA@@._V1_SX300.jpg', 'Ratings': [\"[{'Source': 'Internet Movie Database'\", \"'Value': '7.9/10'}\", \"{'Source': 'Rotten Tomatoes'\", \"'Value': '86%'}\", \"{'Source': 'Metacritic'\", \"'Value': '79/100'}]\"], 'imdbRating': '7.9', 'imdbID': 'tt0454876', 'Website': 'N/A'}),\n",
       " Document(page_content=\"Overview: The epic tale of King Asoka's life is recounted.. Keywords: Action, Biography, Drama\", metadata={'Title': 'Asoka', 'Year': 2001, 'Released': '26 Oct 2001', 'Runtime': '180 min', 'Genre': ['Action', 'Biography', 'Drama'], 'Director': 'Santosh Sivan', 'Actors': ['Shah Rukh Khan', 'Kareena Kapoor', 'Danny Denzongpa'], 'Plot': \"The epic tale of King Asoka's life is recounted.\", 'Poster': 'https://m.media-amazon.com/images/M/MV5BNjk3OTZmYWUtMDYwMy00Y2ZmLWEzMDYtOTg3YjQzNDNkM2E1XkEyXkFqcGdeQXVyODE5NzE3OTE@._V1_SX300.jpg', 'Ratings': [\"[{'Source': 'Internet Movie Database'\", \"'Value': '6.4/10'}\", \"{'Source': 'Rotten Tomatoes'\", \"'Value': '100%'}]\"], 'imdbRating': '6.4', 'imdbID': 'tt0249371', 'Website': 'N/A'}),\n",
       " Document(page_content=\"Overview: A year after the accidental death of their father, three brothers -- each suffering from depression - meet for a train trip across India. Francis, the eldest, has organized it. The brothers argue, sulk, resent each other, and fight. The youngest, Jack, estranged from his girlfriend, is attracted to one of the train's attendants. Peter has left his pregnant wife at home, and he buys a venomous snake. After a few days, Francis discloses their surprising and disconcerting destination. Amid foreign surroundings, can the brothers sort out their differences? A funeral, a meditation, a hilltop ritual, and the Bengal Lancer figure in the reconciliation.. Keywords: Adventure, Comedy, Drama\", metadata={'Title': 'The Darjeeling Limited', 'Year': 2007, 'Released': '26 Oct 2007', 'Runtime': '91 min', 'Genre': ['Adventure', 'Comedy', 'Drama'], 'Director': 'Wes Anderson', 'Actors': ['Owen Wilson', 'Adrien Brody', 'Jason Schwartzman'], 'Plot': \"A year after the accidental death of their father, three brothers -- each suffering from depression - meet for a train trip across India. Francis, the eldest, has organized it. The brothers argue, sulk, resent each other, and fight. The youngest, Jack, estranged from his girlfriend, is attracted to one of the train's attendants. Peter has left his pregnant wife at home, and he buys a venomous snake. After a few days, Francis discloses their surprising and disconcerting destination. Amid foreign surroundings, can the brothers sort out their differences? A funeral, a meditation, a hilltop ritual, and the Bengal Lancer figure in the reconciliation.\", 'Poster': 'https://m.media-amazon.com/images/M/MV5BMTM0MTQ4MTgwOF5BMl5BanBnXkFtZTcwMDA3MDU1MQ@@._V1_SX300.jpg', 'Ratings': [\"[{'Source': 'Internet Movie Database'\", \"'Value': '7.2/10'}\", \"{'Source': 'Rotten Tomatoes'\", \"'Value': '69%'}\", \"{'Source': 'Metacritic'\", \"'Value': '67/100'}]\"], 'imdbRating': '7.2', 'imdbID': 'tt0838221', 'Website': 'N/A'}),\n",
       " Document(page_content=\"Overview: Biopic of Mahavir Singh Phogat, who taught wrestling to his daughters Babita Kumari and Geeta Phogat. Geeta Phogat was India's first female wrestler to win at the 2010 Commonwealth Games, where she won the gold medal (55 kg) while her sister Babita Kumari won the silver (51 kg).. Keywords: Action, Biography, Drama\", metadata={'Title': 'Dangal', 'Year': 2016, 'Released': '21 Dec 2016', 'Runtime': '161 min', 'Genre': ['Action', 'Biography', 'Drama'], 'Director': 'Nitesh Tiwari', 'Actors': ['Aamir Khan', 'Sakshi Tanwar', 'Fatima Sana Shaikh'], 'Plot': \"Biopic of Mahavir Singh Phogat, who taught wrestling to his daughters Babita Kumari and Geeta Phogat. Geeta Phogat was India's first female wrestler to win at the 2010 Commonwealth Games, where she won the gold medal (55 kg) while her sister Babita Kumari won the silver (51 kg).\", 'Poster': 'https://m.media-amazon.com/images/M/MV5BMTQ4MzQzMzM2Nl5BMl5BanBnXkFtZTgwMTQ1NzU3MDI@._V1_SX300.jpg', 'Ratings': [\"[{'Source': 'Internet Movie Database'\", \"'Value': '8.3/10'}\", \"{'Source': 'Rotten Tomatoes'\", \"'Value': '89%'}]\"], 'imdbRating': '8.3', 'imdbID': 'tt5074352', 'Website': 'N/A'}),\n",
       " Document(page_content='Overview: Set in Tumbbad in the 1920s, the story revolves around the three generations of a family facing the consequences when they build a temple for the first-born of a goddess, named Hastar--he who must not be worshiped. Hastar is a terrible entity who can curse a person yet also can grant gold coins. And the story put emphasis on human nature and the never ending greed. The myth of Hastar is, when the Goddess of Prosperity created the world she gave birth to Hastar followed by 16 Crore Gods and Goddesses. Hastar being her first born was her favorite child, but Hastar was very greedy. When the Goddess of Prosperity offered Hastar the ownership of all the gold in the universe or all the food, he took the gold as well as tried to take over the food in his greed fighting with his brothers and sisters. The 16 crore gods and goddesses overpowered Hastar and when they tried to kill him, the Goddess of Prosperity intervened and begged for his life. The 16 crore gods and goddesses accepted', metadata={'Title': 'Tumbbad', 'Year': 2018, 'Released': '12 Oct 2018', 'Runtime': '104 min', 'Genre': ['Drama', 'Fantasy', 'Horror'], 'Director': 'Rahi Anil Barve, Anand Gandhi, Adesh Prasad', 'Actors': ['Sohum Shah', 'Jyoti Malshe', 'Anita Date-Kelkar'], 'Plot': 'Set in Tumbbad in the 1920s, the story revolves around the three generations of a family facing the consequences when they build a temple for the first-born of a goddess, named Hastar--he who must not be worshiped. Hastar is a terrible entity who can curse a person yet also can grant gold coins. And the story put emphasis on human nature and the never ending greed. The myth of Hastar is, when the Goddess of Prosperity created the world she gave birth to Hastar followed by 16 Crore Gods and Goddesses. Hastar being her first born was her favorite child, but Hastar was very greedy. When the Goddess of Prosperity offered Hastar the ownership of all the gold in the universe or all the food, he took the gold as well as tried to take over the food in his greed fighting with his brothers and sisters. The 16 crore gods and goddesses overpowered Hastar and when they tried to kill him, the Goddess of Prosperity intervened and begged for his life. The 16 crore gods and goddesses accepted her request on one condition, that Hastar will never be mentioned in the Puranas nor he should be ever worshiped.', 'Poster': 'https://m.media-amazon.com/images/M/MV5BYmQxNmU4ZjgtYzE5Mi00ZDlhLTlhOTctMzJkNjk2ZGUyZGEwXkEyXkFqcGdeQXVyMzgxMDA0Nzk@._V1_SX300.jpg', 'Ratings': [\"[{'Source': 'Internet Movie Database'\", \"'Value': '8.2/10'}\", \"{'Source': 'Rotten Tomatoes'\", \"'Value': '86%'}]\"], 'imdbRating': '8.2', 'imdbID': 'tt8239946', 'Website': 'N/A'}),\n",
       " Document(page_content='Goddess of Prosperity intervened and begged for his life. The 16 crore gods and goddesses accepted her request on one condition, that Hastar will never be mentioned in the Puranas nor he should be ever worshiped.. Keywords: Drama, Fantasy, Horror', metadata={'Title': 'Tumbbad', 'Year': 2018, 'Released': '12 Oct 2018', 'Runtime': '104 min', 'Genre': ['Drama', 'Fantasy', 'Horror'], 'Director': 'Rahi Anil Barve, Anand Gandhi, Adesh Prasad', 'Actors': ['Sohum Shah', 'Jyoti Malshe', 'Anita Date-Kelkar'], 'Plot': 'Set in Tumbbad in the 1920s, the story revolves around the three generations of a family facing the consequences when they build a temple for the first-born of a goddess, named Hastar--he who must not be worshiped. Hastar is a terrible entity who can curse a person yet also can grant gold coins. And the story put emphasis on human nature and the never ending greed. The myth of Hastar is, when the Goddess of Prosperity created the world she gave birth to Hastar followed by 16 Crore Gods and Goddesses. Hastar being her first born was her favorite child, but Hastar was very greedy. When the Goddess of Prosperity offered Hastar the ownership of all the gold in the universe or all the food, he took the gold as well as tried to take over the food in his greed fighting with his brothers and sisters. The 16 crore gods and goddesses overpowered Hastar and when they tried to kill him, the Goddess of Prosperity intervened and begged for his life. The 16 crore gods and goddesses accepted her request on one condition, that Hastar will never be mentioned in the Puranas nor he should be ever worshiped.', 'Poster': 'https://m.media-amazon.com/images/M/MV5BYmQxNmU4ZjgtYzE5Mi00ZDlhLTlhOTctMzJkNjk2ZGUyZGEwXkEyXkFqcGdeQXVyMzgxMDA0Nzk@._V1_SX300.jpg', 'Ratings': [\"[{'Source': 'Internet Movie Database'\", \"'Value': '8.2/10'}\", \"{'Source': 'Rotten Tomatoes'\", \"'Value': '86%'}]\"], 'imdbRating': '8.2', 'imdbID': 'tt8239946', 'Website': 'N/A'}),\n",
       " Document(page_content='Overview: When his friends in Punjab struggle to clear the immigration process, an ex-soldier guides them on a risky journey to enter the UK without permission.. Keywords: Comedy, Drama', metadata={'Title': 'Dunki', 'Year': 2023, 'Released': '21 Dec 2023', 'Runtime': '160 min', 'Genre': ['Comedy', 'Drama'], 'Director': 'Rajkumar Hirani', 'Actors': ['Taapsee Pannu', 'Ryan Cretney', 'Priya Sindher'], 'Plot': 'When his friends in Punjab struggle to clear the immigration process, an ex-soldier guides them on a risky journey to enter the UK without permission.', 'Poster': 'https://m.media-amazon.com/images/M/MV5BMzQ0NDRhNmItYzllYS00NDdlLTk0YTctZDQ5YmFkYjdkNDcyXkEyXkFqcGdeQXVyNTYwMzA0MTM@._V1_SX300.jpg', 'Ratings': [\"[{'Source': 'Internet Movie Database'\", \"'Value': '6.8/10'}\", \"{'Source': 'Rotten Tomatoes'\", \"'Value': '48%'}]\"], 'imdbRating': '6.8', 'imdbID': 'tt15428134', 'Website': 'N/A'}),\n",
       " Document(page_content='Overview: A common man with honesty and integrity can take on the system when he has truth on his side.. Keywords: Crime, Drama, Thriller', metadata={'Title': 'Sirf Ek Bandaa Kaafi Hai', 'Year': 2023, 'Released': '23 May 2023', 'Runtime': '132 min', 'Genre': ['Crime', 'Drama', 'Thriller'], 'Director': 'Apoorv Singh Karki', 'Actors': ['Manoj Bajpayee', 'Adrija Sinha', 'Surya Mohan Kulshreshtha'], 'Plot': 'A common man with honesty and integrity can take on the system when he has truth on his side.', 'Poster': 'https://m.media-amazon.com/images/M/MV5BODZiODQyZjgtNTdiZC00OTFhLTkwODktMjFmODJlZjk5MzYzXkEyXkFqcGdeQXVyMTQwMTI5NzM2._V1_SX300.jpg', 'Ratings': [\"[{'Source': 'Internet Movie Database'\", \"'Value': '8.0/10'}]\"], 'imdbRating': '8.0', 'imdbID': 'tt24485052', 'Website': 'N/A'}),\n",
       " Document(page_content=\"Overview: Shahid Khan is exiled after impersonating the legendary Sultana Daku in order to rob British trains. Now outcast, Shahid becomes a worker at Ramadhir Singh's colliery, only to spur a revenge battle that passes on to generations. At the turn of the decade, Shahid's son, the philandering Sardar Khan vows to get his father's honor back, becoming the most feared man of Wasseypur.. Keywords: Action, Comedy, Crime\", metadata={'Title': 'Gangs of Wasseypur', 'Year': 2012, 'Released': '22 Jun 2012', 'Runtime': '321 min', 'Genre': ['Action', 'Comedy', 'Crime'], 'Director': 'Anurag Kashyap', 'Actors': ['Manoj Bajpayee', 'Nawazuddin Siddiqui', 'Tigmanshu Dhulia'], 'Plot': \"Shahid Khan is exiled after impersonating the legendary Sultana Daku in order to rob British trains. Now outcast, Shahid becomes a worker at Ramadhir Singh's colliery, only to spur a revenge battle that passes on to generations. At the turn of the decade, Shahid's son, the philandering Sardar Khan vows to get his father's honor back, becoming the most feared man of Wasseypur.\", 'Poster': 'https://m.media-amazon.com/images/M/MV5BMTc5NjY4MjUwNF5BMl5BanBnXkFtZTgwODM3NzM5MzE@._V1_SX300.jpg', 'Ratings': [\"[{'Source': 'Internet Movie Database'\", \"'Value': '8.2/10'}\", \"{'Source': 'Rotten Tomatoes'\", \"'Value': '94%'}\", \"{'Source': 'Metacritic'\", \"'Value': '89/100'}]\"], 'imdbRating': '8.2', 'imdbID': 'tt1954470', 'Website': 'N/A'}),\n",
       " Document(page_content=\"Overview: Krishna Mehra is an operative at Indian spy agency known as R&amp;AW. She is assigned to track down the mole selling India's defense secrets, while all along grappling with her dual identity as a spy and a lover.. Keywords: Action, Biography, Crime\", metadata={'Title': 'Khufiya', 'Year': 2023, 'Released': '05 Oct 2023', 'Runtime': '157 min', 'Genre': ['Action', 'Biography', 'Crime'], 'Director': 'Vishal Bhardwaj', 'Actors': ['Tabu', 'Ali Fazal', 'Wamiqa Gabbi'], 'Plot': \"Krishna Mehra is an operative at Indian spy agency known as R&amp;AW. She is assigned to track down the mole selling India's defense secrets, while all along grappling with her dual identity as a spy and a lover.\", 'Poster': 'https://m.media-amazon.com/images/M/MV5BNWYzMWFhYmQtNmI0Ni00OWJkLWFiMjktM2JlZmEzZjgzNjE1XkEyXkFqcGdeQXVyODE5NzE3OTE@._V1_SX300.jpg', 'Ratings': [\"[{'Source': 'Internet Movie Database'\", \"'Value': '6.1/10'}]\"], 'imdbRating': '6.1', 'imdbID': 'tt15433600', 'Website': 'N/A'}),\n",
       " Document(page_content=\"Overview: The hardened son of a powerful industrialist returns home after years abroad and vows to take bloody revenge on those threatening his father's life.. Keywords: Action, Crime, Drama\", metadata={'Title': 'Animal', 'Year': 2023, 'Released': '01 Dec 2023', 'Runtime': '204 min', 'Genre': ['Action', 'Crime', 'Drama'], 'Director': 'Sandeep Reddy Vanga', 'Actors': ['Ranbir Kapoor', 'Anil Kapoor', 'Bobby Deol'], 'Plot': \"The hardened son of a powerful industrialist returns home after years abroad and vows to take bloody revenge on those threatening his father's life.\", 'Poster': 'https://m.media-amazon.com/images/M/MV5BNGViM2M4NmUtMmNkNy00MTQ5LTk5MDYtNmNhODAzODkwOTJlXkEyXkFqcGdeQXVyMTY1NDY4NTIw._V1_SX300.jpg', 'Ratings': [\"[{'Source': 'Internet Movie Database'\", \"'Value': '6.2/10'}]\"], 'imdbRating': '6.2', 'imdbID': 'tt13751694', 'Website': 'N/A'})]"
      ]
     },
     "execution_count": 20,
     "metadata": {},
     "output_type": "execute_result"
    }
   ],
   "source": [
    "temp"
   ]
  },
  {
   "cell_type": "code",
   "execution_count": 21,
   "metadata": {},
   "outputs": [],
   "source": [
    "index = PineconeVectorStore.from_documents(temp,embeddings,index_name=\"rag-movie-recomm\")"
   ]
  },
  {
   "cell_type": "code",
   "execution_count": 22,
   "metadata": {},
   "outputs": [],
   "source": [
    "retriever = index.as_retriever()"
   ]
  },
  {
   "cell_type": "code",
   "execution_count": 23,
   "metadata": {},
   "outputs": [],
   "source": [
    "# retriever = index.as_retriever()\n",
    "\n",
    "# def retrieve_query(query,k=2):\n",
    "#     matching_results=index.similarity_search(query,k=k)\n",
    "#     return matching_results\n",
    "\n",
    "# # retrieve_query(query)"
   ]
  },
  {
   "cell_type": "code",
   "execution_count": 24,
   "metadata": {},
   "outputs": [],
   "source": [
    "# from langchain.chains.question_answering import load_qa_chain\n",
    "\n",
    "# chain=load_qa_chain(llm,chain_type=\"stuff\")"
   ]
  },
  {
   "cell_type": "code",
   "execution_count": 25,
   "metadata": {},
   "outputs": [],
   "source": [
    "# def retrieve_answers(query):\n",
    "#     doc_search=retrieve_query(query)\n",
    "#     print(doc_search)\n",
    "#     response=chain.run(input_documents=doc_search,question=query)\n",
    "#     return response"
   ]
  },
  {
   "cell_type": "code",
   "execution_count": 26,
   "metadata": {},
   "outputs": [],
   "source": [
    "# our_query = \"Recommend me 3 movies on Keywords Romance/Love\"\n",
    "# answer = retrieve_answers(our_query)\n",
    "# print(answer)"
   ]
  },
  {
   "cell_type": "code",
   "execution_count": 27,
   "metadata": {},
   "outputs": [],
   "source": [
    "prompt_template = ChatPromptTemplate.from_messages(\n",
    "    [\n",
    "        (\n",
    "            'system',\n",
    "            \"\"\"\n",
    "            Recommend films based on the user's query and the provided context only. \n",
    "            Only recommend films if they are in the context and relevant.  \n",
    "            Provide three to five relevant film recommendations, ensuring from the context only. \n",
    "            If the context is empty or none of the films are relevant, dont give anything you can return empty json response.\n",
    "            Do not recommend more than five films.\n",
    "            Don't give answer on based of your knowledge, you are strictly to use context provided for recommending the movies only.\n",
    "            \n",
    "            your response should be in json format only strictly.\n",
    "            \n",
    "            Use Context provided to give output of recommended movies in the below mentioned format for every movie, In the reasoning field in the output format, write your reason for recommending the movie make it as you are explaining why its a must watch movie:-\n",
    "            \n",
    "            OUTPUT FORMAT:\n",
    "            [\n",
    "                \"Title\": \"\",\n",
    "                \"Plot\": \"\",\n",
    "                \"Genre\":\"\"\n",
    "                \"Runtime\": \"\",\n",
    "                \"Release Year\": \"\",\n",
    "                \"Actor\": \"\",\n",
    "                \"Director\": \"\",\n",
    "                \"Website\": \"\",\n",
    "                \"Poster\": \"\",\n",
    "                \"IMDB Rating\": \"\",\n",
    "                \"imdbID\": \"\",\n",
    "                \"Reasoning\": \"\"\n",
    "            ]\n",
    "            \n",
    "            Question: {question}\n",
    "            Context: {context}\n",
    "            \"\"\"\n",
    "        ),\n",
    "    ]\n",
    ")"
   ]
  },
  {
   "cell_type": "code",
   "execution_count": 28,
   "metadata": {},
   "outputs": [],
   "source": [
    "def format_docs(docs):\n",
    "    formatted_docs = []\n",
    "    for doc in docs:\n",
    "        metadata = doc.metadata\n",
    "        formatted_doc = {\n",
    "            \"Title\": metadata.get('Title', 'N/A'),\n",
    "            \"Plot\": metadata.get('Plot', 'N/A'),\n",
    "            \"Genre\": metadata.get('Genre', 'N/A'),\n",
    "            \"Runtime\": metadata.get('Runtime', 'N/A'),\n",
    "            \"Release Year\": metadata.get('Year', 'N/A'),\n",
    "            \"Actor\": ', '.join(metadata.get('Actors', [])),\n",
    "            \"Director\": metadata.get('Director', 'N/A'),\n",
    "            \"Website\": metadata.get('Website', 'N/A'),\n",
    "            \"Poster\": metadata.get('Poster', 'N/A'),\n",
    "            \"IMDB Rating\": metadata.get('imdbRating', 'N/A'),\n",
    "            \"imdbID\": metadata.get('imdbID', 'N/A'),\n",
    "            \"Reasoning\": \"\"\n",
    "        }\n",
    "        formatted_docs.append(formatted_doc)\n",
    "    return formatted_docs"
   ]
  },
  {
   "cell_type": "code",
   "execution_count": 29,
   "metadata": {},
   "outputs": [
    {
     "name": "stdout",
     "output_type": "stream",
     "text": [
      "[\n",
      "    {\n",
      "        \"Title\": \"Neeyat\",\n",
      "        \"Plot\": \"When a mysterious murder takes place at exiled billionaire Ashish Kapoor's birthday getaway, detective Mira Rao must use all her skill to unravel devious motives as the suspects are Kapoor's close family and friends.\",\n",
      "        \"Runtime\": \"134 min\",\n",
      "        \"Release Year\": 2023.0,\n",
      "        \"Actor\": \"Vidya Balan, Ram Kapoor, Rahul Bose\",\n",
      "        \"Director\": \"Anu Menon\",\n",
      "        \"Website\": \"N/A\",\n",
      "        \"Poster\": \"https://m.media-amazon.com/images/M/MV5BZDMwYzM5NWItNDU1ZS00MDljLWIxZmQtNDI5MzBlZDJlODBlXkEyXkFqcGdeQXVyNTM1MzM4Nzk@._V1_SX300.jpg\",\n",
      "        \"IMDB Rating\": \"5.3\",\n",
      "        \"imdbID\": \"tt21908676\",\n",
      "        \"Reasoning\": \"This crime thriller has a complex plot and intriguing characters, making it a must-watch for fans of the genre.\"\n",
      "    },\n",
      "    {\n",
      "        \"Title\": \"Por Thozhil\",\n",
      "        \"Plot\": \"A bright but faint-hearted rookie cop has to overcome his fears in order to succeed in his first case which sees him partnered with a reclusive senior officer to catch a serial killer on the loose.\",\n",
      "        \"Runtime\": \"147 min\",\n",
      "        \"Release Year\": 2023.0,\n",
      "        \"Actor\": \"R. Sarathkumar, Lisha Chinnu, Ashok Selvan\",\n",
      "        \"Director\": \"Vignesh Raja, T. Senthil Paramasivam\",\n",
      "        \"Website\": \"N/A\",\n",
      "        \"Poster\": \"https://m.media-amazon.com/images/M/MV5BY2U5ZjQ2MGMtNDI5ZS00NzJjLTg5YTAtMTVhYWQ4MGE4NmQxXkEyXkFqcGdeQXVyMTY1MzAyNjU4._V1_SX300.jpg\",\n",
      "        \"IMDB Rating\": \"8.0\",\n",
      "        \"imdbID\": \"tt27542289\",\n",
      "        \"Reasoning\": \"This crime drama has a strong focus on character development and features a gripping storyline, making it a must-watch for fans of the genre.\"\n",
      "    }\n",
      "]\n"
     ]
    }
   ],
   "source": [
    "rag_chain = (\n",
    "    {\"context\": retriever | format_docs, \"question\": RunnablePassthrough()}\n",
    "    | prompt_template\n",
    "    | llm\n",
    ")\n",
    "\n",
    "response = rag_chain.invoke({\n",
    "    \"question\": \"Give me recommendations about crime\"\n",
    "})\n",
    "\n",
    "print(response)"
   ]
  },
  {
   "cell_type": "code",
   "execution_count": 30,
   "metadata": {},
   "outputs": [
    {
     "data": {
      "text/plain": [
       "'[\\n    {\\n        \"Title\": \"Neeyat\",\\n        \"Plot\": \"When a mysterious murder takes place at exiled billionaire Ashish Kapoor\\'s birthday getaway, detective Mira Rao must use all her skill to unravel devious motives as the suspects are Kapoor\\'s close family and friends.\",\\n        \"Runtime\": \"134 min\",\\n        \"Release Year\": 2023.0,\\n        \"Actor\": \"Vidya Balan, Ram Kapoor, Rahul Bose\",\\n        \"Director\": \"Anu Menon\",\\n        \"Website\": \"N/A\",\\n        \"Poster\": \"https://m.media-amazon.com/images/M/MV5BZDMwYzM5NWItNDU1ZS00MDljLWIxZmQtNDI5MzBlZDJlODBlXkEyXkFqcGdeQXVyNTM1MzM4Nzk@._V1_SX300.jpg\",\\n        \"IMDB Rating\": \"5.3\",\\n        \"imdbID\": \"tt21908676\",\\n        \"Reasoning\": \"This crime thriller has a complex plot and intriguing characters, making it a must-watch for fans of the genre.\"\\n    },\\n    {\\n        \"Title\": \"Por Thozhil\",\\n        \"Plot\": \"A bright but faint-hearted rookie cop has to overcome his fears in order to succeed in his first case which sees him partnered with a reclusive senior officer to catch a serial killer on the loose.\",\\n        \"Runtime\": \"147 min\",\\n        \"Release Year\": 2023.0,\\n        \"Actor\": \"R. Sarathkumar, Lisha Chinnu, Ashok Selvan\",\\n        \"Director\": \"Vignesh Raja, T. Senthil Paramasivam\",\\n        \"Website\": \"N/A\",\\n        \"Poster\": \"https://m.media-amazon.com/images/M/MV5BY2U5ZjQ2MGMtNDI5ZS00NzJjLTg5YTAtMTVhYWQ4MGE4NmQxXkEyXkFqcGdeQXVyMTY1MzAyNjU4._V1_SX300.jpg\",\\n        \"IMDB Rating\": \"8.0\",\\n        \"imdbID\": \"tt27542289\",\\n        \"Reasoning\": \"This crime drama has a strong focus on character development and features a gripping storyline, making it a must-watch for fans of the genre.\"\\n    }\\n]'"
      ]
     },
     "execution_count": 30,
     "metadata": {},
     "output_type": "execute_result"
    }
   ],
   "source": [
    "response"
   ]
  },
  {
   "cell_type": "code",
   "execution_count": 31,
   "metadata": {},
   "outputs": [
    {
     "name": "stdout",
     "output_type": "stream",
     "text": [
      "[{'Title': 'Neeyat', 'Plot': \"When a mysterious murder takes place at exiled billionaire Ashish Kapoor's birthday getaway, detective Mira Rao must use all her skill to unravel devious motives as the suspects are Kapoor's close family and friends.\", 'Runtime': '134 min', 'Release Year': 2023.0, 'Actor': 'Vidya Balan, Ram Kapoor, Rahul Bose', 'Director': 'Anu Menon', 'Website': 'N/A', 'Poster': 'https://m.media-amazon.com/images/M/MV5BZDMwYzM5NWItNDU1ZS00MDljLWIxZmQtNDI5MzBlZDJlODBlXkEyXkFqcGdeQXVyNTM1MzM4Nzk@._V1_SX300.jpg', 'IMDB Rating': '5.3', 'imdbID': 'tt21908676', 'Reasoning': 'This crime thriller has a complex plot and intriguing characters, making it a must-watch for fans of the genre.'}, {'Title': 'Por Thozhil', 'Plot': 'A bright but faint-hearted rookie cop has to overcome his fears in order to succeed in his first case which sees him partnered with a reclusive senior officer to catch a serial killer on the loose.', 'Runtime': '147 min', 'Release Year': 2023.0, 'Actor': 'R. Sarathkumar, Lisha Chinnu, Ashok Selvan', 'Director': 'Vignesh Raja, T. Senthil Paramasivam', 'Website': 'N/A', 'Poster': 'https://m.media-amazon.com/images/M/MV5BY2U5ZjQ2MGMtNDI5ZS00NzJjLTg5YTAtMTVhYWQ4MGE4NmQxXkEyXkFqcGdeQXVyMTY1MzAyNjU4._V1_SX300.jpg', 'IMDB Rating': '8.0', 'imdbID': 'tt27542289', 'Reasoning': 'This crime drama has a strong focus on character development and features a gripping storyline, making it a must-watch for fans of the genre.'}]\n"
     ]
    }
   ],
   "source": [
    "import json\n",
    "\n",
    "json_data = response[response.find(\"[\"):response.rfind(\"]\") + 1]\n",
    "output_data = json.loads(json_data)\n",
    "print(output_data)\n"
   ]
  },
  {
   "cell_type": "code",
   "execution_count": 32,
   "metadata": {},
   "outputs": [
    {
     "data": {
      "text/plain": [
       "{'Title': 'Neeyat',\n",
       " 'Plot': \"When a mysterious murder takes place at exiled billionaire Ashish Kapoor's birthday getaway, detective Mira Rao must use all her skill to unravel devious motives as the suspects are Kapoor's close family and friends.\",\n",
       " 'Runtime': '134 min',\n",
       " 'Release Year': 2023.0,\n",
       " 'Actor': 'Vidya Balan, Ram Kapoor, Rahul Bose',\n",
       " 'Director': 'Anu Menon',\n",
       " 'Website': 'N/A',\n",
       " 'Poster': 'https://m.media-amazon.com/images/M/MV5BZDMwYzM5NWItNDU1ZS00MDljLWIxZmQtNDI5MzBlZDJlODBlXkEyXkFqcGdeQXVyNTM1MzM4Nzk@._V1_SX300.jpg',\n",
       " 'IMDB Rating': '5.3',\n",
       " 'imdbID': 'tt21908676',\n",
       " 'Reasoning': 'This crime thriller has a complex plot and intriguing characters, making it a must-watch for fans of the genre.'}"
      ]
     },
     "execution_count": 32,
     "metadata": {},
     "output_type": "execute_result"
    }
   ],
   "source": [
    "output_data[0]"
   ]
  },
  {
   "cell_type": "code",
   "execution_count": 33,
   "metadata": {},
   "outputs": [
    {
     "data": {
      "text/plain": [
       "{'Title': 'Por Thozhil',\n",
       " 'Plot': 'A bright but faint-hearted rookie cop has to overcome his fears in order to succeed in his first case which sees him partnered with a reclusive senior officer to catch a serial killer on the loose.',\n",
       " 'Runtime': '147 min',\n",
       " 'Release Year': 2023.0,\n",
       " 'Actor': 'R. Sarathkumar, Lisha Chinnu, Ashok Selvan',\n",
       " 'Director': 'Vignesh Raja, T. Senthil Paramasivam',\n",
       " 'Website': 'N/A',\n",
       " 'Poster': 'https://m.media-amazon.com/images/M/MV5BY2U5ZjQ2MGMtNDI5ZS00NzJjLTg5YTAtMTVhYWQ4MGE4NmQxXkEyXkFqcGdeQXVyMTY1MzAyNjU4._V1_SX300.jpg',\n",
       " 'IMDB Rating': '8.0',\n",
       " 'imdbID': 'tt27542289',\n",
       " 'Reasoning': 'This crime drama has a strong focus on character development and features a gripping storyline, making it a must-watch for fans of the genre.'}"
      ]
     },
     "execution_count": 33,
     "metadata": {},
     "output_type": "execute_result"
    }
   ],
   "source": [
    "output_data[1]"
   ]
  },
  {
   "cell_type": "markdown",
   "metadata": {},
   "source": [
    "### Pinecone Retrival"
   ]
  },
  {
   "cell_type": "code",
   "execution_count": 176,
   "metadata": {},
   "outputs": [],
   "source": [
    "embeddings = OllamaEmbeddings(model=\"llama3\")\n",
    "index_name=\"rag-movie-recomm\""
   ]
  },
  {
   "cell_type": "code",
   "execution_count": 177,
   "metadata": {},
   "outputs": [],
   "source": [
    "docsearch = PineconeVectorStore.from_existing_index(index_name, embeddings)\n",
    "docs = docsearch.similarity_search(\"Give me movie recommendations about Love\")"
   ]
  },
  {
   "cell_type": "code",
   "execution_count": 178,
   "metadata": {},
   "outputs": [
    {
     "data": {
      "text/plain": [
       "[Document(page_content=\"Overview: A retired jailer goes on a manhunt to find his son's killers. But the road leads him to a familiar, albeit a bit darker place. Can he emerge from this complex situation successfully?. Keywords: Action, Comedy, Crime\", metadata={'Actors': ['Rajinikanth', 'Mohanlal', 'Shivarajkumar'], 'Director': 'Nelson Dilipkumar', 'Genre': ['Action', 'Comedy', 'Crime'], 'Plot': \"A retired jailer goes on a manhunt to find his son's killers. But the road leads him to a familiar, albeit a bit darker place. Can he emerge from this complex situation successfully?\", 'Poster': 'https://m.media-amazon.com/images/M/MV5BNzFkNmZkMTctYjRhMS00ODZiLWFlNjQtZmZmN2IzMDJlNmVkXkEyXkFqcGdeQXVyMTY1MzAyNjU4._V1_SX300.jpg', 'Ratings': [\"[{'Source': 'Internet Movie Database'\", \"'Value': '7.1/10'}]\"], 'Released': '10 Aug 2023', 'Runtime': '168 min', 'Title': 'Jailer', 'Website': 'N/A', 'Year': 2023.0, 'imdbID': 'tt11663228', 'imdbRating': '7.1'}),\n",
       " Document(page_content='Overview: Much to the dismay of her husband, a middle-class housewife, known for her rebellious attitude in high school, decides to attend her class reunion.. Keywords: Drama', metadata={'Actors': ['Shilpa Shetty Kundra', 'Kusha Kapila', 'Amit Sadh'], 'Director': 'Sonal Joshi', 'Genre': ['Drama'], 'Plot': 'Much to the dismay of her husband, a middle-class housewife, known for her rebellious attitude in high school, decides to attend her class reunion.', 'Poster': 'https://m.media-amazon.com/images/M/MV5BMzk4MDMwNzUtYzk0Yy00NGJiLWIxMTQtYjZhOGU5ZmNjYWEyXkEyXkFqcGdeQXVyOTI3MzI4MzA@._V1_SX300.jpg', 'Ratings': [\"[{'Source': 'Internet Movie Database'\", \"'Value': '6.6/10'}]\"], 'Released': '22 Sep 2023', 'Runtime': '139 min', 'Title': 'Sukhee', 'Website': 'N/A', 'Year': 2023.0, 'imdbID': 'tt18266472', 'imdbRating': '6.6'}),\n",
       " Document(page_content='Overview: A single mother and her daughter commit a crime and a neighbor helps them cover it up amid the police investigation.. Keywords: Crime, Drama, Mystery', metadata={'Actors': ['Kareena Kapoor', 'Jaideep Ahlawat', 'Vijay Varma'], 'Director': 'Sujoy Ghosh', 'Genre': ['Crime', 'Drama', 'Mystery'], 'Plot': 'A single mother and her daughter commit a crime and a neighbor helps them cover it up amid the police investigation.', 'Poster': 'https://m.media-amazon.com/images/M/MV5BMTNmMmY5NzAtNTdjOC00Y2JiLThjZDQtNDEzODQ5MWQ4NWFhXkEyXkFqcGdeQXVyODE5NzE3OTE@._V1_SX300.jpg', 'Ratings': [\"[{'Source': 'Internet Movie Database'\", \"'Value': '7.0/10'}]\"], 'Released': '21 Sep 2023', 'Runtime': '139 min', 'Title': 'Jaane Jaan', 'Website': 'N/A', 'Year': 2023.0, 'imdbID': 'tt15748830', 'imdbRating': '7.0'}),\n",
       " Document(page_content='Overview: An unhappy civilian asks the court to mandate comprehensive education in schools in a dramatic yet amusing courtroom play.. Keywords: Comedy, Drama', metadata={'Actors': ['Akshay Kumar', 'Pankaj Tripathi', 'Yami Gautam'], 'Director': 'Amit Rai', 'Genre': ['Comedy', 'Drama'], 'Plot': 'An unhappy civilian asks the court to mandate comprehensive education in schools in a dramatic yet amusing courtroom play.', 'Poster': 'https://m.media-amazon.com/images/M/MV5BNmQ3MThkOWEtNTA0NC00YzI2LWIxZjEtZjdlZTVmNzQ2ZGViXkEyXkFqcGdeQXVyODE5NzE3OTE@._V1_SX300.jpg', 'Ratings': [\"[{'Source': 'Internet Movie Database'\", \"'Value': '7.6/10'}]\"], 'Released': '11 Aug 2023', 'Runtime': '156 min', 'Title': 'OMG 2', 'Website': 'N/A', 'Year': 2023.0, 'imdbID': 'tt15732324', 'imdbRating': '7.6'})]"
      ]
     },
     "execution_count": 178,
     "metadata": {},
     "output_type": "execute_result"
    }
   ],
   "source": [
    "docs"
   ]
  },
  {
   "cell_type": "markdown",
   "metadata": {},
   "source": [
    "### Ollama api call"
   ]
  },
  {
   "cell_type": "code",
   "execution_count": 30,
   "metadata": {},
   "outputs": [
    {
     "name": "stdout",
     "output_type": "stream",
     "text": [
      "[{'model': 'llama3', 'created_at': '2024-05-31T07:12:20.62375562Z', 'response': 'What', 'done': False}, {'model': 'llama3', 'created_at': '2024-05-31T07:12:20.916239115Z', 'response': ' a', 'done': False}, {'model': 'llama3', 'created_at': '2024-05-31T07:12:21.164111711Z', 'response': ' fascinating', 'done': False}, {'model': 'llama3', 'created_at': '2024-05-31T07:12:21.488562706Z', 'response': ' combination', 'done': False}, {'model': 'llama3', 'created_at': '2024-05-31T07:12:21.739449402Z', 'response': '!', 'done': False}, {'model': 'llama3', 'created_at': '2024-05-31T07:12:22.005689498Z', 'response': ' Here', 'done': False}, {'model': 'llama3', 'created_at': '2024-05-31T07:12:22.272500493Z', 'response': ' are', 'done': False}, {'model': 'llama3', 'created_at': '2024-05-31T07:12:22.642049788Z', 'response': ' some', 'done': False}, {'model': 'llama3', 'created_at': '2024-05-31T07:12:23.075108381Z', 'response': ' movie', 'done': False}, {'model': 'llama3', 'created_at': '2024-05-31T07:12:23.694928671Z', 'response': ' recommendations', 'done': False}, {'model': 'llama3', 'created_at': '2024-05-31T07:12:23.962701466Z', 'response': ' that', 'done': False}, {'model': 'llama3', 'created_at': '2024-05-31T07:12:24.230421462Z', 'response': ' feature', 'done': False}, {'model': 'llama3', 'created_at': '2024-05-31T07:12:24.548188657Z', 'response': ' gods', 'done': False}, {'model': 'llama3', 'created_at': '2024-05-31T07:12:24.779480553Z', 'response': ' or', 'done': False}, {'model': 'llama3', 'created_at': '2024-05-31T07:12:25.01633995Z', 'response': ' goddess', 'done': False}, {'model': 'llama3', 'created_at': '2024-05-31T07:12:25.265671946Z', 'response': 'es', 'done': False}, {'model': 'llama3', 'created_at': '2024-05-31T07:12:25.545718441Z', 'response': ' in', 'done': False}, {'model': 'llama3', 'created_at': '2024-05-31T07:12:25.862574536Z', 'response': ' a', 'done': False}, {'model': 'llama3', 'created_at': '2024-05-31T07:12:26.182375331Z', 'response': ' horror', 'done': False}, {'model': 'llama3', 'created_at': '2024-05-31T07:12:26.746637522Z', 'response': ' context', 'done': False}, {'model': 'llama3', 'created_at': '2024-05-31T07:12:27.130662216Z', 'response': ':\\n\\n', 'done': False}, {'model': 'llama3', 'created_at': '2024-05-31T07:12:27.673968107Z', 'response': '1', 'done': False}, {'model': 'llama3', 'created_at': '2024-05-31T07:12:28.007169502Z', 'response': '.', 'done': False}, {'model': 'llama3', 'created_at': '2024-05-31T07:12:28.331769597Z', 'response': ' **', 'done': False}, {'model': 'llama3', 'created_at': '2024-05-31T07:12:28.64126969Z', 'response': 'Cl', 'done': False}, {'model': 'llama3', 'created_at': '2024-05-31T07:12:28.865199684Z', 'response': 'ash', 'done': False}, {'model': 'llama3', 'created_at': '2024-05-31T07:12:29.107815778Z', 'response': ' of', 'done': False}, {'model': 'llama3', 'created_at': '2024-05-31T07:12:29.341349972Z', 'response': ' the', 'done': False}, {'model': 'llama3', 'created_at': '2024-05-31T07:12:29.570288166Z', 'response': ' Titans', 'done': False}, {'model': 'llama3', 'created_at': '2024-05-31T07:12:29.80236446Z', 'response': '**', 'done': False}, {'model': 'llama3', 'created_at': '2024-05-31T07:12:30.035058055Z', 'response': ' (', 'done': False}, {'model': 'llama3', 'created_at': '2024-05-31T07:12:30.261758549Z', 'response': '201', 'done': False}, {'model': 'llama3', 'created_at': '2024-05-31T07:12:30.493923943Z', 'response': '0', 'done': False}, {'model': 'llama3', 'created_at': '2024-05-31T07:12:30.741123337Z', 'response': ')', 'done': False}, {'model': 'llama3', 'created_at': '2024-05-31T07:12:31.00196363Z', 'response': ' -', 'done': False}, {'model': 'llama3', 'created_at': '2024-05-31T07:12:31.265670224Z', 'response': ' A', 'done': False}, {'model': 'llama3', 'created_at': '2024-05-31T07:12:31.507911718Z', 'response': ' remake', 'done': False}, {'model': 'llama3', 'created_at': '2024-05-31T07:12:31.768942711Z', 'response': ' of', 'done': False}, {'model': 'llama3', 'created_at': '2024-05-31T07:12:32.029216105Z', 'response': ' the', 'done': False}, {'model': 'llama3', 'created_at': '2024-05-31T07:12:32.294787398Z', 'response': ' classic', 'done': False}, {'model': 'llama3', 'created_at': '2024-05-31T07:12:32.564504491Z', 'response': ' ', 'done': False}, {'model': 'llama3', 'created_at': '2024-05-31T07:12:32.836650384Z', 'response': '198', 'done': False}, {'model': 'llama3', 'created_at': '2024-05-31T07:12:33.111109677Z', 'response': '1', 'done': False}, {'model': 'llama3', 'created_at': '2024-05-31T07:12:33.377630471Z', 'response': ' film', 'done': False}, {'model': 'llama3', 'created_at': '2024-05-31T07:12:33.659818364Z', 'response': ',', 'done': False}, {'model': 'llama3', 'created_at': '2024-05-31T07:12:33.934609857Z', 'response': ' this', 'done': False}, {'model': 'llama3', 'created_at': '2024-05-31T07:12:34.21461695Z', 'response': ' one', 'done': False}, {'model': 'llama3', 'created_at': '2024-05-31T07:12:34.482668843Z', 'response': ' ret', 'done': False}, {'model': 'llama3', 'created_at': '2024-05-31T07:12:34.750468136Z', 'response': 'ells', 'done': False}, {'model': 'llama3', 'created_at': '2024-05-31T07:12:35.054137529Z', 'response': ' the', 'done': False}, {'model': 'llama3', 'created_at': '2024-05-31T07:12:35.368850821Z', 'response': ' story', 'done': False}, {'model': 'llama3', 'created_at': '2024-05-31T07:12:35.693037113Z', 'response': ' of', 'done': False}, {'model': 'llama3', 'created_at': '2024-05-31T07:12:35.913721707Z', 'response': ' Per', 'done': False}, {'model': 'llama3', 'created_at': '2024-05-31T07:12:36.160387801Z', 'response': 'se', 'done': False}, {'model': 'llama3', 'created_at': '2024-05-31T07:12:36.379028295Z', 'response': 'us', 'done': False}, {'model': 'llama3', 'created_at': '2024-05-31T07:12:36.599415091Z', 'response': ' and', 'done': False}, {'model': 'llama3', 'created_at': '2024-05-31T07:12:36.816656388Z', 'response': ' his', 'done': False}, {'model': 'llama3', 'created_at': '2024-05-31T07:12:37.038139984Z', 'response': ' battle', 'done': False}, {'model': 'llama3', 'created_at': '2024-05-31T07:12:37.26063738Z', 'response': ' against', 'done': False}, {'model': 'llama3', 'created_at': '2024-05-31T07:12:37.477483977Z', 'response': ' H', 'done': False}, {'model': 'llama3', 'created_at': '2024-05-31T07:12:37.750348772Z', 'response': 'ades', 'done': False}, {'model': 'llama3', 'created_at': '2024-05-31T07:12:37.993481768Z', 'response': ',', 'done': False}, {'model': 'llama3', 'created_at': '2024-05-31T07:12:38.249060464Z', 'response': ' the', 'done': False}, {'model': 'llama3', 'created_at': '2024-05-31T07:12:38.506565059Z', 'response': ' god', 'done': False}, {'model': 'llama3', 'created_at': '2024-05-31T07:12:38.762257355Z', 'response': ' of', 'done': False}, {'model': 'llama3', 'created_at': '2024-05-31T07:12:39.020484951Z', 'response': ' the', 'done': False}, {'model': 'llama3', 'created_at': '2024-05-31T07:12:39.273063046Z', 'response': ' underworld', 'done': False}, {'model': 'llama3', 'created_at': '2024-05-31T07:12:39.549999342Z', 'response': '.\\n', 'done': False}, {'model': 'llama3', 'created_at': '2024-05-31T07:12:39.822531837Z', 'response': '2', 'done': False}, {'model': 'llama3', 'created_at': '2024-05-31T07:12:40.095924832Z', 'response': '.', 'done': False}, {'model': 'llama3', 'created_at': '2024-05-31T07:12:40.365045528Z', 'response': ' **', 'done': False}, {'model': 'llama3', 'created_at': '2024-05-31T07:12:40.640857623Z', 'response': 'P', 'done': False}, {'model': 'llama3', 'created_at': '2024-05-31T07:12:40.958590118Z', 'response': 'erc', 'done': False}, {'model': 'llama3', 'created_at': '2024-05-31T07:12:41.229691713Z', 'response': 'y', 'done': False}, {'model': 'llama3', 'created_at': '2024-05-31T07:12:41.495727509Z', 'response': ' Jackson', 'done': False}, {'model': 'llama3', 'created_at': '2024-05-31T07:12:41.761631804Z', 'response': ' &', 'done': False}, {'model': 'llama3', 'created_at': '2024-05-31T07:12:42.0332465Z', 'response': ' the', 'done': False}, {'model': 'llama3', 'created_at': '2024-05-31T07:12:42.368305894Z', 'response': ' Olymp', 'done': False}, {'model': 'llama3', 'created_at': '2024-05-31T07:12:42.580981691Z', 'response': 'ians', 'done': False}, {'model': 'llama3', 'created_at': '2024-05-31T07:12:42.806435087Z', 'response': ':', 'done': False}, {'model': 'llama3', 'created_at': '2024-05-31T07:12:43.028569983Z', 'response': ' The', 'done': False}, {'model': 'llama3', 'created_at': '2024-05-31T07:12:43.23985478Z', 'response': ' Lightning', 'done': False}, {'model': 'llama3', 'created_at': '2024-05-31T07:12:43.461291076Z', 'response': ' Thief', 'done': False}, {'model': 'llama3', 'created_at': '2024-05-31T07:12:43.682429172Z', 'response': '**', 'done': False}, {'model': 'llama3', 'created_at': '2024-05-31T07:12:43.887359969Z', 'response': ' (', 'done': False}, {'model': 'llama3', 'created_at': '2024-05-31T07:12:44.095718565Z', 'response': '200', 'done': False}, {'model': 'llama3', 'created_at': '2024-05-31T07:12:44.339422661Z', 'response': '9', 'done': False}, {'model': 'llama3', 'created_at': '2024-05-31T07:12:44.590256558Z', 'response': ')', 'done': False}, {'model': 'llama3', 'created_at': '2024-05-31T07:12:44.843899956Z', 'response': ' -', 'done': False}, {'model': 'llama3', 'created_at': '2024-05-31T07:12:45.096928853Z', 'response': ' Based', 'done': False}, {'model': 'llama3', 'created_at': '2024-05-31T07:12:45.360781251Z', 'response': ' on', 'done': False}, {'model': 'llama3', 'created_at': '2024-05-31T07:12:45.624821349Z', 'response': ' Rick', 'done': False}, {'model': 'llama3', 'created_at': '2024-05-31T07:12:45.898489646Z', 'response': ' Ri', 'done': False}, {'model': 'llama3', 'created_at': '2024-05-31T07:12:46.174854843Z', 'response': 'ordan', 'done': False}, {'model': 'llama3', 'created_at': '2024-05-31T07:12:46.452371841Z', 'response': \"'s\", 'done': False}, {'model': 'llama3', 'created_at': '2024-05-31T07:12:46.728934538Z', 'response': ' popular', 'done': False}, {'model': 'llama3', 'created_at': '2024-05-31T07:12:47.004873036Z', 'response': ' book', 'done': False}, {'model': 'llama3', 'created_at': '2024-05-31T07:12:47.285169233Z', 'response': ' series', 'done': False}, {'model': 'llama3', 'created_at': '2024-05-31T07:12:47.550626331Z', 'response': ',', 'done': False}, {'model': 'llama3', 'created_at': '2024-05-31T07:12:47.807750528Z', 'response': ' this', 'done': False}, {'model': 'llama3', 'created_at': '2024-05-31T07:12:48.080403526Z', 'response': ' movie', 'done': False}, {'model': 'llama3', 'created_at': '2024-05-31T07:12:48.363993923Z', 'response': ' follows', 'done': False}, {'model': 'llama3', 'created_at': '2024-05-31T07:12:48.641404621Z', 'response': ' Percy', 'done': False}, {'model': 'llama3', 'created_at': '2024-05-31T07:12:48.998028118Z', 'response': ' Jackson', 'done': False}, {'model': 'llama3', 'created_at': '2024-05-31T07:12:49.221788715Z', 'response': ',', 'done': False}, {'model': 'llama3', 'created_at': '2024-05-31T07:12:49.428653314Z', 'response': ' a', 'done': False}, {'model': 'llama3', 'created_at': '2024-05-31T07:12:49.651563712Z', 'response': ' young', 'done': False}, {'model': 'llama3', 'created_at': '2024-05-31T07:12:49.920744209Z', 'response': ' boy', 'done': False}, {'model': 'llama3', 'created_at': '2024-05-31T07:12:50.141942807Z', 'response': ' who', 'done': False}, {'model': 'llama3', 'created_at': '2024-05-31T07:12:50.377783305Z', 'response': ' discovers', 'done': False}, {'model': 'llama3', 'created_at': '2024-05-31T07:12:50.604737703Z', 'response': ' he', 'done': False}, {'model': 'llama3', 'created_at': '2024-05-31T07:12:50.821756601Z', 'response': \"'s\", 'done': False}, {'model': 'llama3', 'created_at': '2024-05-31T07:12:51.069383399Z', 'response': ' the', 'done': False}, {'model': 'llama3', 'created_at': '2024-05-31T07:12:51.326262196Z', 'response': ' son', 'done': False}, {'model': 'llama3', 'created_at': '2024-05-31T07:12:51.585958494Z', 'response': ' of', 'done': False}, {'model': 'llama3', 'created_at': '2024-05-31T07:12:51.877800791Z', 'response': ' Pose', 'done': False}, {'model': 'llama3', 'created_at': '2024-05-31T07:12:52.147849289Z', 'response': 'idon', 'done': False}, {'model': 'llama3', 'created_at': '2024-05-31T07:12:52.456079086Z', 'response': ',', 'done': False}, {'model': 'llama3', 'created_at': '2024-05-31T07:12:52.784179281Z', 'response': ' as', 'done': False}, {'model': 'llama3', 'created_at': '2024-05-31T07:12:53.148834676Z', 'response': ' he', 'done': False}, {'model': 'llama3', 'created_at': '2024-05-31T07:12:53.450827972Z', 'response': ' emb', 'done': False}, {'model': 'llama3', 'created_at': '2024-05-31T07:12:53.740571168Z', 'response': 'arks', 'done': False}, {'model': 'llama3', 'created_at': '2024-05-31T07:12:54.015763465Z', 'response': ' on', 'done': False}, {'model': 'llama3', 'created_at': '2024-05-31T07:12:54.298407361Z', 'response': ' a', 'done': False}, {'model': 'llama3', 'created_at': '2024-05-31T07:12:54.594320657Z', 'response': ' quest', 'done': False}, {'model': 'llama3', 'created_at': '2024-05-31T07:12:54.889118153Z', 'response': ' to', 'done': False}, {'model': 'llama3', 'created_at': '2024-05-31T07:12:55.169922749Z', 'response': ' prevent', 'done': False}, {'model': 'llama3', 'created_at': '2024-05-31T07:12:55.440233945Z', 'response': ' a', 'done': False}, {'model': 'llama3', 'created_at': '2024-05-31T07:12:55.704544342Z', 'response': ' war', 'done': False}, {'model': 'llama3', 'created_at': '2024-05-31T07:12:55.954293438Z', 'response': ' between', 'done': False}, {'model': 'llama3', 'created_at': '2024-05-31T07:12:56.229215835Z', 'response': ' the', 'done': False}, {'model': 'llama3', 'created_at': '2024-05-31T07:12:56.502439831Z', 'response': ' gods', 'done': False}, {'model': 'llama3', 'created_at': '2024-05-31T07:12:56.836844427Z', 'response': '.\\n', 'done': False}, {'model': 'llama3', 'created_at': '2024-05-31T07:12:57.066281723Z', 'response': '3', 'done': False}, {'model': 'llama3', 'created_at': '2024-05-31T07:12:57.28975532Z', 'response': '.', 'done': False}, {'model': 'llama3', 'created_at': '2024-05-31T07:12:57.517789717Z', 'response': ' **', 'done': False}, {'model': 'llama3', 'created_at': '2024-05-31T07:12:57.749196014Z', 'response': 'The', 'done': False}, {'model': 'llama3', 'created_at': '2024-05-31T07:12:57.985283511Z', 'response': ' Craft', 'done': False}, {'model': 'llama3', 'created_at': '2024-05-31T07:12:58.225143308Z', 'response': '**', 'done': False}, {'model': 'llama3', 'created_at': '2024-05-31T07:12:58.480947004Z', 'response': ' (', 'done': False}, {'model': 'llama3', 'created_at': '2024-05-31T07:12:58.747064901Z', 'response': '199', 'done': False}, {'model': 'llama3', 'created_at': '2024-05-31T07:12:59.006776297Z', 'response': '6', 'done': False}, {'model': 'llama3', 'created_at': '2024-05-31T07:12:59.267775794Z', 'response': ')', 'done': False}, {'model': 'llama3', 'created_at': '2024-05-31T07:12:59.54300439Z', 'response': ' -', 'done': False}, {'model': 'llama3', 'created_at': '2024-05-31T07:12:59.823311186Z', 'response': ' While', 'done': False}, {'model': 'llama3', 'created_at': '2024-05-31T07:13:00.093452483Z', 'response': ' not', 'done': False}, {'model': 'llama3', 'created_at': '2024-05-31T07:13:00.378358179Z', 'response': ' exclusively', 'done': False}, {'model': 'llama3', 'created_at': '2024-05-31T07:13:00.674076774Z', 'response': ' focused', 'done': False}, {'model': 'llama3', 'created_at': '2024-05-31T07:13:00.95077247Z', 'response': ' on', 'done': False}, {'model': 'llama3', 'created_at': '2024-05-31T07:13:01.229903266Z', 'response': ' gods', 'done': False}, {'model': 'llama3', 'created_at': '2024-05-31T07:13:01.508163962Z', 'response': ' or', 'done': False}, {'model': 'llama3', 'created_at': '2024-05-31T07:13:01.770880158Z', 'response': ' goddess', 'done': False}, {'model': 'llama3', 'created_at': '2024-05-31T07:13:02.051103054Z', 'response': 'es', 'done': False}, {'model': 'llama3', 'created_at': '2024-05-31T07:13:02.33754005Z', 'response': ',', 'done': False}, {'model': 'llama3', 'created_at': '2024-05-31T07:13:02.609161746Z', 'response': ' this', 'done': False}, {'model': 'llama3', 'created_at': '2024-05-31T07:13:02.876645042Z', 'response': ' cult', 'done': False}, {'model': 'llama3', 'created_at': '2024-05-31T07:13:03.158810037Z', 'response': ' classic', 'done': False}, {'model': 'llama3', 'created_at': '2024-05-31T07:13:03.509145732Z', 'response': ' features', 'done': False}, {'model': 'llama3', 'created_at': '2024-05-31T07:13:03.857229527Z', 'response': ' a', 'done': False}, {'model': 'llama3', 'created_at': '2024-05-31T07:13:04.080050424Z', 'response': ' group', 'done': False}, {'model': 'llama3', 'created_at': '2024-05-31T07:13:04.30548742Z', 'response': ' of', 'done': False}, {'model': 'llama3', 'created_at': '2024-05-31T07:13:04.541671717Z', 'response': ' teenage', 'done': False}, {'model': 'llama3', 'created_at': '2024-05-31T07:13:04.777527913Z', 'response': ' witches', 'done': False}, {'model': 'llama3', 'created_at': '2024-05-31T07:13:05.00717461Z', 'response': ' who', 'done': False}, {'model': 'llama3', 'created_at': '2024-05-31T07:13:05.237398307Z', 'response': ' summon', 'done': False}, {'model': 'llama3', 'created_at': '2024-05-31T07:13:05.494801303Z', 'response': ' an', 'done': False}, {'model': 'llama3', 'created_at': '2024-05-31T07:13:05.762076199Z', 'response': ' ancient', 'done': False}, {'model': 'llama3', 'created_at': '2024-05-31T07:13:06.016532795Z', 'response': ' deity', 'done': False}, {'model': 'llama3', 'created_at': '2024-05-31T07:13:06.286326091Z', 'response': ',', 'done': False}, {'model': 'llama3', 'created_at': '2024-05-31T07:13:06.564462087Z', 'response': ' Man', 'done': False}, {'model': 'llama3', 'created_at': '2024-05-31T07:13:06.833635383Z', 'response': 'on', 'done': False}, {'model': 'llama3', 'created_at': '2024-05-31T07:13:07.085079979Z', 'response': ',', 'done': False}, {'model': 'llama3', 'created_at': '2024-05-31T07:13:07.383864975Z', 'response': ' in', 'done': False}, {'model': 'llama3', 'created_at': '2024-05-31T07:13:07.67525537Z', 'response': ' their', 'done': False}, {'model': 'llama3', 'created_at': '2024-05-31T07:13:07.948324066Z', 'response': ' quest', 'done': False}, {'model': 'llama3', 'created_at': '2024-05-31T07:13:08.219709062Z', 'response': ' for', 'done': False}, {'model': 'llama3', 'created_at': '2024-05-31T07:13:08.510743558Z', 'response': ' power', 'done': False}, {'model': 'llama3', 'created_at': '2024-05-31T07:13:08.913927653Z', 'response': ' and', 'done': False}, {'model': 'llama3', 'created_at': '2024-05-31T07:13:09.15776995Z', 'response': ' revenge', 'done': False}, {'model': 'llama3', 'created_at': '2024-05-31T07:13:09.389308447Z', 'response': '.\\n', 'done': False}, {'model': 'llama3', 'created_at': '2024-05-31T07:13:09.622805144Z', 'response': '4', 'done': False}, {'model': 'llama3', 'created_at': '2024-05-31T07:13:09.866370741Z', 'response': '.', 'done': False}, {'model': 'llama3', 'created_at': '2024-05-31T07:13:10.105922738Z', 'response': ' **', 'done': False}, {'model': 'llama3', 'created_at': '2024-05-31T07:13:10.354015835Z', 'response': 'St', 'done': False}, {'model': 'llama3', 'created_at': '2024-05-31T07:13:10.592963832Z', 'response': 'igm', 'done': False}, {'model': 'llama3', 'created_at': '2024-05-31T07:13:10.854802728Z', 'response': 'ata', 'done': False}, {'model': 'llama3', 'created_at': '2024-05-31T07:13:11.115835625Z', 'response': '**', 'done': False}, {'model': 'llama3', 'created_at': '2024-05-31T07:13:11.378405822Z', 'response': ' (', 'done': False}, {'model': 'llama3', 'created_at': '2024-05-31T07:13:11.657777218Z', 'response': '199', 'done': False}, {'model': 'llama3', 'created_at': '2024-05-31T07:13:11.925580615Z', 'response': '9', 'done': False}, {'model': 'llama3', 'created_at': '2024-05-31T07:13:12.204806211Z', 'response': ')', 'done': False}, {'model': 'llama3', 'created_at': '2024-05-31T07:13:12.491350407Z', 'response': ' -', 'done': False}, {'model': 'llama3', 'created_at': '2024-05-31T07:13:12.779204004Z', 'response': ' A', 'done': False}, {'model': 'llama3', 'created_at': '2024-05-31T07:13:13.0638351Z', 'response': ' psychological', 'done': False}, {'model': 'llama3', 'created_at': '2024-05-31T07:13:13.317099197Z', 'response': ' horror', 'done': False}, {'model': 'llama3', 'created_at': '2024-05-31T07:13:13.604637793Z', 'response': ' film', 'done': False}, {'model': 'llama3', 'created_at': '2024-05-31T07:13:13.87104189Z', 'response': ' that', 'done': False}, {'model': 'llama3', 'created_at': '2024-05-31T07:13:14.244455685Z', 'response': ' explores', 'done': False}, {'model': 'llama3', 'created_at': '2024-05-31T07:13:14.579351781Z', 'response': ' the', 'done': False}, {'model': 'llama3', 'created_at': '2024-05-31T07:13:14.898078377Z', 'response': ' idea', 'done': False}, {'model': 'llama3', 'created_at': '2024-05-31T07:13:15.111469774Z', 'response': ' of', 'done': False}, {'model': 'llama3', 'created_at': '2024-05-31T07:13:15.334896771Z', 'response': ' a', 'done': False}, {'model': 'llama3', 'created_at': '2024-05-31T07:13:15.565099269Z', 'response': ' st', 'done': False}, {'model': 'llama3', 'created_at': '2024-05-31T07:13:15.794051566Z', 'response': 'igmatic', 'done': False}, {'model': 'llama3', 'created_at': '2024-05-31T07:13:16.024579863Z', 'response': ' individual', 'done': False}, {'model': 'llama3', 'created_at': '2024-05-31T07:13:16.25051716Z', 'response': ' (', 'done': False}, {'model': 'llama3', 'created_at': '2024-05-31T07:13:16.492099157Z', 'response': 'played', 'done': False}, {'model': 'llama3', 'created_at': '2024-05-31T07:13:16.714491553Z', 'response': ' by', 'done': False}, {'model': 'llama3', 'created_at': '2024-05-31T07:13:16.984829149Z', 'response': ' Patricia', 'done': False}, {'model': 'llama3', 'created_at': '2024-05-31T07:13:17.253176745Z', 'response': ' Ar', 'done': False}, {'model': 'llama3', 'created_at': '2024-05-31T07:13:17.523897741Z', 'response': 'quette', 'done': False}, {'model': 'llama3', 'created_at': '2024-05-31T07:13:17.789576037Z', 'response': ')', 'done': False}, {'model': 'llama3', 'created_at': '2024-05-31T07:13:18.069571733Z', 'response': ' who', 'done': False}, {'model': 'llama3', 'created_at': '2024-05-31T07:13:18.352453028Z', 'response': ' becomes', 'done': False}, {'model': 'llama3', 'created_at': '2024-05-31T07:13:18.639307824Z', 'response': ' possessed', 'done': False}, {'model': 'llama3', 'created_at': '2024-05-31T07:13:18.91030292Z', 'response': ' by', 'done': False}, {'model': 'llama3', 'created_at': '2024-05-31T07:13:19.194260116Z', 'response': ' the', 'done': False}, {'model': 'llama3', 'created_at': '2024-05-31T07:13:19.476938711Z', 'response': ' spirit', 'done': False}, {'model': 'llama3', 'created_at': '2024-05-31T07:13:19.765796807Z', 'response': ' of', 'done': False}, {'model': 'llama3', 'created_at': '2024-05-31T07:13:20.041450203Z', 'response': ' a', 'done': False}, {'model': 'llama3', 'created_at': '2024-05-31T07:13:20.326580198Z', 'response': ' ', 'done': False}, {'model': 'llama3', 'created_at': '2024-05-31T07:13:20.605894494Z', 'response': '14', 'done': False}, {'model': 'llama3', 'created_at': '2024-05-31T07:13:20.949362089Z', 'response': 'th', 'done': False}, {'model': 'llama3', 'created_at': '2024-05-31T07:13:21.195767785Z', 'response': '-century', 'done': False}, {'model': 'llama3', 'created_at': '2024-05-31T07:13:21.443061681Z', 'response': ' nun', 'done': False}, {'model': 'llama3', 'created_at': '2024-05-31T07:13:21.686343178Z', 'response': ',', 'done': False}, {'model': 'llama3', 'created_at': '2024-05-31T07:13:21.966195274Z', 'response': ' Is', 'done': False}, {'model': 'llama3', 'created_at': '2024-05-31T07:13:22.231483269Z', 'response': 'abella', 'done': False}, {'model': 'llama3', 'created_at': '2024-05-31T07:13:22.485784066Z', 'response': ' Ros', 'done': False}, {'model': 'llama3', 'created_at': '2024-05-31T07:13:22.729641262Z', 'response': 'set', 'done': False}, {'model': 'llama3', 'created_at': '2024-05-31T07:13:22.978752558Z', 'response': 'ti', 'done': False}, {'model': 'llama3', 'created_at': '2024-05-31T07:13:23.242942754Z', 'response': ',', 'done': False}, {'model': 'llama3', 'created_at': '2024-05-31T07:13:23.51384615Z', 'response': ' who', 'done': False}, {'model': 'llama3', 'created_at': '2024-05-31T07:13:23.784104846Z', 'response': ' was', 'done': False}, {'model': 'llama3', 'created_at': '2024-05-31T07:13:24.056343242Z', 'response': ' accused', 'done': False}, {'model': 'llama3', 'created_at': '2024-05-31T07:13:24.328686838Z', 'response': ' of', 'done': False}, {'model': 'llama3', 'created_at': '2024-05-31T07:13:24.611519234Z', 'response': ' being', 'done': False}, {'model': 'llama3', 'created_at': '2024-05-31T07:13:24.91582503Z', 'response': ' a', 'done': False}, {'model': 'llama3', 'created_at': '2024-05-31T07:13:25.211124226Z', 'response': ' witch', 'done': False}, {'model': 'llama3', 'created_at': '2024-05-31T07:13:25.491553823Z', 'response': ' and', 'done': False}, {'model': 'llama3', 'created_at': '2024-05-31T07:13:25.852790718Z', 'response': ' executed', 'done': False}, {'model': 'llama3', 'created_at': '2024-05-31T07:13:26.311257713Z', 'response': ' for', 'done': False}, {'model': 'llama3', 'created_at': '2024-05-31T07:13:26.53825861Z', 'response': ' her', 'done': False}, {'model': 'llama3', 'created_at': '2024-05-31T07:13:26.780750407Z', 'response': ' supposed', 'done': False}, {'model': 'llama3', 'created_at': '2024-05-31T07:13:27.016014104Z', 'response': ' crimes', 'done': False}, {'model': 'llama3', 'created_at': '2024-05-31T07:13:27.243136301Z', 'response': ' against', 'done': False}, {'model': 'llama3', 'created_at': '2024-05-31T07:13:27.483832498Z', 'response': ' Christianity', 'done': False}, {'model': 'llama3', 'created_at': '2024-05-31T07:13:27.729166195Z', 'response': '.\\n', 'done': False}, {'model': 'llama3', 'created_at': '2024-05-31T07:13:27.959574192Z', 'response': '5', 'done': False}, {'model': 'llama3', 'created_at': '2024-05-31T07:13:28.221956489Z', 'response': '.', 'done': False}, {'model': 'llama3', 'created_at': '2024-05-31T07:13:28.489061586Z', 'response': ' **', 'done': False}, {'model': 'llama3', 'created_at': '2024-05-31T07:13:28.765944183Z', 'response': 'The', 'done': False}, {'model': 'llama3', 'created_at': '2024-05-31T07:13:29.047460479Z', 'response': ' Devil', 'done': False}, {'model': 'llama3', 'created_at': '2024-05-31T07:13:29.330673676Z', 'response': \"'s\", 'done': False}, {'model': 'llama3', 'created_at': '2024-05-31T07:13:29.613149772Z', 'response': ' Backbone', 'done': False}, {'model': 'llama3', 'created_at': '2024-05-31T07:13:29.904845968Z', 'response': '**', 'done': False}, {'model': 'llama3', 'created_at': '2024-05-31T07:13:30.207023965Z', 'response': ' (', 'done': False}, {'model': 'llama3', 'created_at': '2024-05-31T07:13:30.517984661Z', 'response': '200', 'done': False}, {'model': 'llama3', 'created_at': '2024-05-31T07:13:30.871518057Z', 'response': '1', 'done': False}, {'model': 'llama3', 'created_at': '2024-05-31T07:13:31.250986952Z', 'response': ')', 'done': False}, {'model': 'llama3', 'created_at': '2024-05-31T07:13:31.606259248Z', 'response': ' -', 'done': False}, {'model': 'llama3', 'created_at': '2024-05-31T07:13:31.887598244Z', 'response': ' A', 'done': False}, {'model': 'llama3', 'created_at': '2024-05-31T07:13:32.162706441Z', 'response': ' Spanish', 'done': False}, {'model': 'llama3', 'created_at': '2024-05-31T07:13:32.427448637Z', 'response': ' horror', 'done': False}, {'model': 'llama3', 'created_at': '2024-05-31T07:13:32.715391939Z', 'response': ' film', 'done': False}, {'model': 'llama3', 'created_at': '2024-05-31T07:13:32.987047042Z', 'response': ' set', 'done': False}, {'model': 'llama3', 'created_at': '2024-05-31T07:13:33.261857744Z', 'response': ' during', 'done': False}, {'model': 'llama3', 'created_at': '2024-05-31T07:13:33.570112248Z', 'response': ' the', 'done': False}, {'model': 'llama3', 'created_at': '2024-05-31T07:13:33.917098651Z', 'response': ' Spanish', 'done': False}, {'model': 'llama3', 'created_at': '2024-05-31T07:13:34.300269055Z', 'response': ' Civil', 'done': False}, {'model': 'llama3', 'created_at': '2024-05-31T07:13:34.709528059Z', 'response': ' War', 'done': False}, {'model': 'llama3', 'created_at': '2024-05-31T07:13:34.998377162Z', 'response': ',', 'done': False}, {'model': 'llama3', 'created_at': '2024-05-31T07:13:35.281189565Z', 'response': ' this', 'done': False}, {'model': 'llama3', 'created_at': '2024-05-31T07:13:35.563557668Z', 'response': ' movie', 'done': False}, {'model': 'llama3', 'created_at': '2024-05-31T07:13:35.845624371Z', 'response': ' tells', 'done': False}, {'model': 'llama3', 'created_at': '2024-05-31T07:13:36.126042974Z', 'response': ' the', 'done': False}, {'model': 'llama3', 'created_at': '2024-05-31T07:13:36.390036176Z', 'response': ' story', 'done': False}, {'model': 'llama3', 'created_at': '2024-05-31T07:13:36.656875179Z', 'response': ' of', 'done': False}, {'model': 'llama3', 'created_at': '2024-05-31T07:13:36.963656282Z', 'response': ' a', 'done': False}, {'model': 'llama3', 'created_at': '2024-05-31T07:13:37.280273386Z', 'response': ' young', 'done': False}, {'model': 'llama3', 'created_at': '2024-05-31T07:13:37.603981189Z', 'response': ' boy', 'done': False}, {'model': 'llama3', 'created_at': '2024-05-31T07:13:37.894948892Z', 'response': ' who', 'done': False}, {'model': 'llama3', 'created_at': '2024-05-31T07:13:38.189421295Z', 'response': ' transfers', 'done': False}, {'model': 'llama3', 'created_at': '2024-05-31T07:13:38.565145499Z', 'response': ' to', 'done': False}, {'model': 'llama3', 'created_at': '2024-05-31T07:13:38.981731903Z', 'response': ' a', 'done': False}, {'model': 'llama3', 'created_at': '2024-05-31T07:13:39.253692506Z', 'response': ' haunted', 'done': False}, {'model': 'llama3', 'created_at': '2024-05-31T07:13:39.518370308Z', 'response': ' orphan', 'done': False}, {'model': 'llama3', 'created_at': '2024-05-31T07:13:39.746637311Z', 'response': 'age', 'done': False}, {'model': 'llama3', 'created_at': '2024-05-31T07:13:39.993149913Z', 'response': ' where', 'done': False}, {'model': 'llama3', 'created_at': '2024-05-31T07:13:40.234880616Z', 'response': ' he', 'done': False}, {'model': 'llama3', 'created_at': '2024-05-31T07:13:40.481151918Z', 'response': ' encounters', 'done': False}, {'model': 'llama3', 'created_at': '2024-05-31T07:13:40.731006621Z', 'response': ' the', 'done': False}, {'model': 'llama3', 'created_at': '2024-05-31T07:13:41.020143425Z', 'response': ' ghost', 'done': False}, {'model': 'llama3', 'created_at': '2024-05-31T07:13:41.302467429Z', 'response': ' of', 'done': False}, {'model': 'llama3', 'created_at': '2024-05-31T07:13:41.576572432Z', 'response': ' a', 'done': False}, {'model': 'llama3', 'created_at': '2024-05-31T07:13:41.846007336Z', 'response': ' murdered', 'done': False}, {'model': 'llama3', 'created_at': '2024-05-31T07:13:42.125962439Z', 'response': ' student', 'done': False}, {'model': 'llama3', 'created_at': '2024-05-31T07:13:42.414289943Z', 'response': ',', 'done': False}, {'model': 'llama3', 'created_at': '2024-05-31T07:13:42.701211147Z', 'response': ' S', 'done': False}, {'model': 'llama3', 'created_at': '2024-05-31T07:13:42.98056175Z', 'response': 'anti', 'done': False}, {'model': 'llama3', 'created_at': '2024-05-31T07:13:43.269831854Z', 'response': ',', 'done': False}, {'model': 'llama3', 'created_at': '2024-05-31T07:13:43.566479458Z', 'response': ' who', 'done': False}, {'model': 'llama3', 'created_at': '2024-05-31T07:13:43.899002262Z', 'response': ' was', 'done': False}, {'model': 'llama3', 'created_at': '2024-05-31T07:13:44.206524666Z', 'response': ' accused', 'done': False}, {'model': 'llama3', 'created_at': '2024-05-31T07:13:44.585366971Z', 'response': ' of', 'done': False}, {'model': 'llama3', 'created_at': '2024-05-31T07:13:44.850824274Z', 'response': ' being', 'done': False}, {'model': 'llama3', 'created_at': '2024-05-31T07:13:45.094420177Z', 'response': ' possessed', 'done': False}, {'model': 'llama3', 'created_at': '2024-05-31T07:13:45.344211781Z', 'response': ' by', 'done': False}, {'model': 'llama3', 'created_at': '2024-05-31T07:13:45.581338384Z', 'response': ' the', 'done': False}, {'model': 'llama3', 'created_at': '2024-05-31T07:13:45.822399187Z', 'response': ' devil', 'done': False}, {'model': 'llama3', 'created_at': '2024-05-31T07:13:46.08276529Z', 'response': '.\\n', 'done': False}, {'model': 'llama3', 'created_at': '2024-05-31T07:13:46.351892694Z', 'response': '6', 'done': False}, {'model': 'llama3', 'created_at': '2024-05-31T07:13:46.629397897Z', 'response': '.', 'done': False}, {'model': 'llama3', 'created_at': '2024-05-31T07:13:46.914456401Z', 'response': ' **', 'done': False}, {'model': 'llama3', 'created_at': '2024-05-31T07:13:47.200703105Z', 'response': 'God', 'done': False}, {'model': 'llama3', 'created_at': '2024-05-31T07:13:47.504395008Z', 'response': 's', 'done': False}, {'model': 'llama3', 'created_at': '2024-05-31T07:13:47.813566312Z', 'response': ' and', 'done': False}, {'model': 'llama3', 'created_at': '2024-05-31T07:13:48.131959016Z', 'response': ' Monsters', 'done': False}, {'model': 'llama3', 'created_at': '2024-05-31T07:13:48.44120212Z', 'response': '**', 'done': False}, {'model': 'llama3', 'created_at': '2024-05-31T07:13:48.781701219Z', 'response': ' (', 'done': False}, {'model': 'llama3', 'created_at': '2024-05-31T07:13:49.154607415Z', 'response': '199', 'done': False}, {'model': 'llama3', 'created_at': '2024-05-31T07:13:49.64939691Z', 'response': '8', 'done': False}, {'model': 'llama3', 'created_at': '2024-05-31T07:13:49.890105208Z', 'response': ')', 'done': False}, {'model': 'llama3', 'created_at': '2024-05-31T07:13:50.127484406Z', 'response': ' -', 'done': False}, {'model': 'llama3', 'created_at': '2024-05-31T07:13:50.393876503Z', 'response': ' A', 'done': False}, {'model': 'llama3', 'created_at': '2024-05-31T07:13:50.7310147Z', 'response': ' bi', 'done': False}, {'model': 'llama3', 'created_at': '2024-05-31T07:13:51.013073397Z', 'response': 'ographical', 'done': False}, {'model': 'llama3', 'created_at': '2024-05-31T07:13:51.356795394Z', 'response': ' drama', 'done': False}, {'model': 'llama3', 'created_at': '2024-05-31T07:13:51.816011989Z', 'response': '-h', 'done': False}, {'model': 'llama3', 'created_at': '2024-05-31T07:13:52.049904087Z', 'response': 'or', 'done': False}, {'model': 'llama3', 'created_at': '2024-05-31T07:13:52.292698984Z', 'response': 'ror', 'done': False}, {'model': 'llama3', 'created_at': '2024-05-31T07:13:52.539822982Z', 'response': ' film', 'done': False}, {'model': 'llama3', 'created_at': '2024-05-31T07:13:52.820156579Z', 'response': ' that', 'done': False}, {'model': 'llama3', 'created_at': '2024-05-31T07:13:53.106538277Z', 'response': ' explores', 'done': False}, {'model': 'llama3', 'created_at': '2024-05-31T07:13:53.401705974Z', 'response': ' the', 'done': False}, {'model': 'llama3', 'created_at': '2024-05-31T07:13:53.917245069Z', 'response': ' life', 'done': False}, {'model': 'llama3', 'created_at': '2024-05-31T07:13:54.340769764Z', 'response': ' of', 'done': False}, {'model': 'llama3', 'created_at': '2024-05-31T07:13:54.78266596Z', 'response': ' James', 'done': False}, {'model': 'llama3', 'created_at': '2024-05-31T07:13:55.152337956Z', 'response': ' Whale', 'done': False}, {'model': 'llama3', 'created_at': '2024-05-31T07:13:55.466477553Z', 'response': ',', 'done': False}, {'model': 'llama3', 'created_at': '2024-05-31T07:13:56.672726633Z', 'response': ' the', 'done': False}, {'model': 'llama3', 'created_at': '2024-05-31T07:13:56.979009012Z', 'response': ' director', 'done': False}, {'model': 'llama3', 'created_at': '2024-05-31T07:13:57.362328585Z', 'response': ' of', 'done': False}, {'model': 'llama3', 'created_at': '2024-05-31T07:13:58.057457437Z', 'response': ' Frank', 'done': False}, {'model': 'llama3', 'created_at': '2024-05-31T07:13:58.360822715Z', 'response': 'enstein', 'done': False}, {'model': 'llama3', 'created_at': '2024-05-31T07:13:58.766847687Z', 'response': ' (', 'done': False}, {'model': 'llama3', 'created_at': '2024-05-31T07:13:59.112340863Z', 'response': '193', 'done': False}, {'model': 'llama3', 'created_at': '2024-05-31T07:13:59.386399344Z', 'response': '1', 'done': False}, {'model': 'llama3', 'created_at': '2024-05-31T07:13:59.639739826Z', 'response': '),', 'done': False}, {'model': 'llama3', 'created_at': '2024-05-31T07:13:59.914188307Z', 'response': ' which', 'done': False}, {'model': 'llama3', 'created_at': '2024-05-31T07:14:00.216432686Z', 'response': ' is', 'done': False}, {'model': 'llama3', 'created_at': '2024-05-31T07:14:00.492183367Z', 'response': ' loosely', 'done': False}, {'model': 'llama3', 'created_at': '2024-05-31T07:14:00.770142947Z', 'response': ' based', 'done': False}, {'model': 'llama3', 'created_at': '2024-05-31T07:14:01.061541727Z', 'response': ' on', 'done': False}, {'model': 'llama3', 'created_at': '2024-05-31T07:14:01.350147807Z', 'response': ' Mary', 'done': False}, {'model': 'llama3', 'created_at': '2024-05-31T07:14:01.633090587Z', 'response': ' Shelley', 'done': False}, {'model': 'llama3', 'created_at': '2024-05-31T07:14:01.924411267Z', 'response': \"'s\", 'done': False}, {'model': 'llama3', 'created_at': '2024-05-31T07:14:02.228637646Z', 'response': ' novel', 'done': False}, {'model': 'llama3', 'created_at': '2024-05-31T07:14:02.534027424Z', 'response': '.', 'done': False}, {'model': 'llama3', 'created_at': '2024-05-31T07:14:02.816668005Z', 'response': ' The', 'done': False}, {'model': 'llama3', 'created_at': '2024-05-31T07:14:03.232421776Z', 'response': ' movie', 'done': False}, {'model': 'llama3', 'created_at': '2024-05-31T07:14:03.991941123Z', 'response': ' features', 'done': False}, {'model': 'llama3', 'created_at': '2024-05-31T07:14:04.270189903Z', 'response': ' a', 'done': False}, {'model': 'llama3', 'created_at': '2024-05-31T07:14:04.585199083Z', 'response': ' fictional', 'done': False}, {'model': 'llama3', 'created_at': '2024-05-31T07:14:04.852362175Z', 'response': 'ized', 'done': False}, {'model': 'llama3', 'created_at': '2024-05-31T07:14:05.129294467Z', 'response': ' account', 'done': False}, {'model': 'llama3', 'created_at': '2024-05-31T07:14:05.425145558Z', 'response': ' of', 'done': False}, {'model': 'llama3', 'created_at': '2024-05-31T07:14:05.68520945Z', 'response': ' Whale', 'done': False}, {'model': 'llama3', 'created_at': '2024-05-31T07:14:06.114888838Z', 'response': \"'s\", 'done': False}, {'model': 'llama3', 'created_at': '2024-05-31T07:14:06.357638231Z', 'response': ' struggles', 'done': False}, {'model': 'llama3', 'created_at': '2024-05-31T07:14:06.618801023Z', 'response': ' with', 'done': False}, {'model': 'llama3', 'created_at': '2024-05-31T07:14:06.874646415Z', 'response': ' his', 'done': False}, {'model': 'llama3', 'created_at': '2024-05-31T07:14:07.134545908Z', 'response': ' own', 'done': False}, {'model': 'llama3', 'created_at': '2024-05-31T07:14:07.414875699Z', 'response': ' identity', 'done': False}, {'model': 'llama3', 'created_at': '2024-05-31T07:14:07.696973291Z', 'response': ',', 'done': False}, {'model': 'llama3', 'created_at': '2024-05-31T07:14:07.955132883Z', 'response': ' as', 'done': False}, {'model': 'llama3', 'created_at': '2024-05-31T07:14:08.224518775Z', 'response': ' he', 'done': False}, {'model': 'llama3', 'created_at': '2024-05-31T07:14:08.489203768Z', 'response': ' becomes', 'done': False}, {'model': 'llama3', 'created_at': '2024-05-31T07:14:08.75096606Z', 'response': ' increasingly', 'done': False}, {'model': 'llama3', 'created_at': '2024-05-31T07:14:09.053435251Z', 'response': ' obsessed', 'done': False}, {'model': 'llama3', 'created_at': '2024-05-31T07:14:09.339971642Z', 'response': ' with', 'done': False}, {'model': 'llama3', 'created_at': '2024-05-31T07:14:09.601526735Z', 'response': ' his', 'done': False}, {'model': 'llama3', 'created_at': '2024-05-31T07:14:09.858243327Z', 'response': ' own', 'done': False}, {'model': 'llama3', 'created_at': '2024-05-31T07:14:10.164934418Z', 'response': ' mortality', 'done': False}, {'model': 'llama3', 'created_at': '2024-05-31T07:14:10.43117531Z', 'response': ' and', 'done': False}, {'model': 'llama3', 'created_at': '2024-05-31T07:14:10.701670002Z', 'response': ' the', 'done': False}, {'model': 'llama3', 'created_at': '2024-05-31T07:14:10.960572094Z', 'response': ' supernatural', 'done': False}, {'model': 'llama3', 'created_at': '2024-05-31T07:14:11.266977285Z', 'response': '.\\n', 'done': False}, {'model': 'llama3', 'created_at': '2024-05-31T07:14:11.584305376Z', 'response': '7', 'done': False}, {'model': 'llama3', 'created_at': '2024-05-31T07:14:11.892067167Z', 'response': '.', 'done': False}, {'model': 'llama3', 'created_at': '2024-05-31T07:14:12.171791059Z', 'response': ' **', 'done': False}, {'model': 'llama3', 'created_at': '2024-05-31T07:14:12.445980551Z', 'response': 'The', 'done': False}, {'model': 'llama3', 'created_at': '2024-05-31T07:14:12.801934545Z', 'response': ' Prop', 'done': False}, {'model': 'llama3', 'created_at': '2024-05-31T07:14:13.17201534Z', 'response': 'hecy', 'done': False}, {'model': 'llama3', 'created_at': '2024-05-31T07:14:13.406986038Z', 'response': '**', 'done': False}, {'model': 'llama3', 'created_at': '2024-05-31T07:14:13.639034535Z', 'response': ' (', 'done': False}, {'model': 'llama3', 'created_at': '2024-05-31T07:14:13.890276433Z', 'response': '199', 'done': False}, {'model': 'llama3', 'created_at': '2024-05-31T07:14:14.13777513Z', 'response': '5', 'done': False}, {'model': 'llama3', 'created_at': '2024-05-31T07:14:14.377751827Z', 'response': ')', 'done': False}, {'model': 'llama3', 'created_at': '2024-05-31T07:14:14.612800725Z', 'response': ' -', 'done': False}, {'model': 'llama3', 'created_at': '2024-05-31T07:14:14.934353621Z', 'response': ' A', 'done': False}, {'model': 'llama3', 'created_at': '2024-05-31T07:14:15.443416816Z', 'response': ' sci', 'done': False}, {'model': 'llama3', 'created_at': '2024-05-31T07:14:15.726074612Z', 'response': '-fi', 'done': False}, {'model': 'llama3', 'created_at': '2024-05-31T07:14:16.093423908Z', 'response': ' horror', 'done': False}, {'model': 'llama3', 'created_at': '2024-05-31T07:14:16.455383504Z', 'response': ' film', 'done': False}, {'model': 'llama3', 'created_at': '2024-05-31T07:14:16.745683301Z', 'response': ' that', 'done': False}, {'model': 'llama3', 'created_at': '2024-05-31T07:14:17.037056098Z', 'response': ' explores', 'done': False}, {'model': 'llama3', 'created_at': '2024-05-31T07:14:17.380577694Z', 'response': ' an', 'done': False}, {'model': 'llama3', 'created_at': '2024-05-31T07:14:17.77500069Z', 'response': ' ap', 'done': False}, {'model': 'llama3', 'created_at': '2024-05-31T07:14:18.075708487Z', 'response': 'ocalyptic', 'done': False}, {'model': 'llama3', 'created_at': '2024-05-31T07:14:18.395556183Z', 'response': ' scenario', 'done': False}, {'model': 'llama3', 'created_at': '2024-05-31T07:14:18.772380579Z', 'response': ' where', 'done': False}, {'model': 'llama3', 'created_at': '2024-05-31T07:14:19.169045075Z', 'response': ' angels', 'done': False}, {'model': 'llama3', 'created_at': '2024-05-31T07:14:19.708967369Z', 'response': ' and', 'done': False}, {'model': 'llama3', 'created_at': '2024-05-31T07:14:20.174139364Z', 'response': ' demons', 'done': False}, {'model': 'llama3', 'created_at': '2024-05-31T07:14:20.803761556Z', 'response': ' are', 'done': False}, {'model': 'llama3', 'created_at': '2024-05-31T07:14:21.120584151Z', 'response': ' fighting', 'done': False}, {'model': 'llama3', 'created_at': '2024-05-31T07:14:21.416314646Z', 'response': ' over', 'done': False}, {'model': 'llama3', 'created_at': '2024-05-31T07:14:21.874980339Z', 'response': ' humanity', 'done': False}, {'model': 'llama3', 'created_at': '2024-05-31T07:14:22.399810931Z', 'response': \"'s\", 'done': False}, {'model': 'llama3', 'created_at': '2024-05-31T07:14:22.764280426Z', 'response': ' fate', 'done': False}, {'model': 'llama3', 'created_at': '2024-05-31T07:14:23.10624472Z', 'response': '.', 'done': False}, {'model': 'llama3', 'created_at': '2024-05-31T07:14:23.458488215Z', 'response': ' One', 'done': False}, {'model': 'llama3', 'created_at': '2024-05-31T07:14:23.717456011Z', 'response': ' of', 'done': False}, {'model': 'llama3', 'created_at': '2024-05-31T07:14:24.053661806Z', 'response': ' the', 'done': False}, {'model': 'llama3', 'created_at': '2024-05-31T07:14:24.373675601Z', 'response': ' main', 'done': False}, {'model': 'llama3', 'created_at': '2024-05-31T07:14:24.759342895Z', 'response': ' characters', 'done': False}, {'model': 'llama3', 'created_at': '2024-05-31T07:14:25.300997187Z', 'response': ' is', 'done': False}, {'model': 'llama3', 'created_at': '2024-05-31T07:14:25.71136538Z', 'response': ' Gabriel', 'done': False}, {'model': 'llama3', 'created_at': '2024-05-31T07:14:26.084456774Z', 'response': ',', 'done': False}, {'model': 'llama3', 'created_at': '2024-05-31T07:14:26.35494797Z', 'response': ' who', 'done': False}, {'model': 'llama3', 'created_at': '2024-05-31T07:14:26.635552066Z', 'response': ' plays', 'done': False}, {'model': 'llama3', 'created_at': '2024-05-31T07:14:26.929317062Z', 'response': ' a', 'done': False}, {'model': 'llama3', 'created_at': '2024-05-31T07:14:27.267905456Z', 'response': ' significant', 'done': False}, {'model': 'llama3', 'created_at': '2024-05-31T07:14:27.541409052Z', 'response': ' role', 'done': False}, {'model': 'llama3', 'created_at': '2024-05-31T07:14:27.814185948Z', 'response': ' in', 'done': False}, {'model': 'llama3', 'created_at': '2024-05-31T07:14:28.181490742Z', 'response': ' the', 'done': False}, {'model': 'llama3', 'created_at': '2024-05-31T07:14:28.456971838Z', 'response': ' story', 'done': False}, {'model': 'llama3', 'created_at': '2024-05-31T07:14:28.729099335Z', 'response': '.\\n', 'done': False}, {'model': 'llama3', 'created_at': '2024-05-31T07:14:29.007025033Z', 'response': '8', 'done': False}, {'model': 'llama3', 'created_at': '2024-05-31T07:14:29.288967031Z', 'response': '.', 'done': False}, {'model': 'llama3', 'created_at': '2024-05-31T07:14:29.551434529Z', 'response': ' **', 'done': False}, {'model': 'llama3', 'created_at': '2024-05-31T07:14:29.803515527Z', 'response': 'The', 'done': False}, {'model': 'llama3', 'created_at': '2024-05-31T07:14:30.208403624Z', 'response': ' O', 'done': False}, {'model': 'llama3', 'created_at': '2024-05-31T07:14:30.712726821Z', 'response': 'men', 'done': False}, {'model': 'llama3', 'created_at': '2024-05-31T07:14:31.095250718Z', 'response': '**', 'done': False}, {'model': 'llama3', 'created_at': '2024-05-31T07:14:31.668698314Z', 'response': ' (', 'done': False}, {'model': 'llama3', 'created_at': '2024-05-31T07:14:32.250441709Z', 'response': '197', 'done': False}, {'model': 'llama3', 'created_at': '2024-05-31T07:14:32.566401407Z', 'response': '6', 'done': False}, {'model': 'llama3', 'created_at': '2024-05-31T07:14:32.988899804Z', 'response': ')', 'done': False}, {'model': 'llama3', 'created_at': '2024-05-31T07:14:33.269045402Z', 'response': ' -', 'done': False}, {'model': 'llama3', 'created_at': '2024-05-31T07:14:33.5389757Z', 'response': ' A', 'done': False}, {'model': 'llama3', 'created_at': '2024-05-31T07:14:33.806012398Z', 'response': ' classic', 'done': False}, {'model': 'llama3', 'created_at': '2024-05-31T07:14:34.081339096Z', 'response': ' horror', 'done': False}, {'model': 'llama3', 'created_at': '2024-05-31T07:14:34.328011194Z', 'response': ' film', 'done': False}, {'model': 'llama3', 'created_at': '2024-05-31T07:14:34.824575291Z', 'response': ' about', 'done': False}, {'model': 'llama3', 'created_at': '2024-05-31T07:14:35.193710888Z', 'response': ' the', 'done': False}, {'model': 'llama3', 'created_at': '2024-05-31T07:14:35.775825584Z', 'response': ' Ant', 'done': False}, {'model': 'llama3', 'created_at': '2024-05-31T07:14:36.070955882Z', 'response': 'ich', 'done': False}, {'model': 'llama3', 'created_at': '2024-05-31T07:14:36.401007379Z', 'response': 'rist', 'done': False}, {'model': 'llama3', 'created_at': '2024-05-31T07:14:36.695624586Z', 'response': ',', 'done': False}, {'model': 'llama3', 'created_at': '2024-05-31T07:14:36.954355511Z', 'response': ' Damien', 'done': False}, {'model': 'llama3', 'created_at': '2024-05-31T07:14:37.223929037Z', 'response': ' Thorn', 'done': False}, {'model': 'llama3', 'created_at': '2024-05-31T07:14:37.531865066Z', 'response': ',', 'done': False}, {'model': 'llama3', 'created_at': '2024-05-31T07:14:37.819277894Z', 'response': ' who', 'done': False}, {'model': 'llama3', 'created_at': '2024-05-31T07:14:38.09780132Z', 'response': ' is', 'done': False}, {'model': 'llama3', 'created_at': '2024-05-31T07:14:38.377086347Z', 'response': ' destined', 'done': False}, {'model': 'llama3', 'created_at': '2024-05-31T07:14:38.657254574Z', 'response': ' to', 'done': False}, {'model': 'llama3', 'created_at': '2024-05-31T07:14:38.942865001Z', 'response': ' bring', 'done': False}, {'model': 'llama3', 'created_at': '2024-05-31T07:14:39.254508931Z', 'response': ' about', 'done': False}, {'model': 'llama3', 'created_at': '2024-05-31T07:14:39.562452561Z', 'response': ' the', 'done': False}, {'model': 'llama3', 'created_at': '2024-05-31T07:14:39.897671093Z', 'response': ' apocalypse', 'done': False}, {'model': 'llama3', 'created_at': '2024-05-31T07:14:40.207140222Z', 'response': '.', 'done': False}, {'model': 'llama3', 'created_at': '2024-05-31T07:14:40.611675561Z', 'response': ' The', 'done': False}, {'model': 'llama3', 'created_at': '2024-05-31T07:14:40.886692587Z', 'response': ' movie', 'done': False}, {'model': 'llama3', 'created_at': '2024-05-31T07:14:41.154276213Z', 'response': ' features', 'done': False}, {'model': 'llama3', 'created_at': '2024-05-31T07:14:41.43278914Z', 'response': ' several', 'done': False}, {'model': 'llama3', 'created_at': '2024-05-31T07:14:41.731012468Z', 'response': ' all', 'done': False}, {'model': 'llama3', 'created_at': '2024-05-31T07:14:42.0627678Z', 'response': 'usions', 'done': False}, {'model': 'llama3', 'created_at': '2024-05-31T07:14:42.526469544Z', 'response': ' to', 'done': False}, {'model': 'llama3', 'created_at': '2024-05-31T07:14:43.1112171Z', 'response': ' biblical', 'done': False}, {'model': 'llama3', 'created_at': '2024-05-31T07:14:43.592627246Z', 'response': ' prop', 'done': False}, {'model': 'llama3', 'created_at': '2024-05-31T07:14:43.904914876Z', 'response': 'hec', 'done': False}, {'model': 'llama3', 'created_at': '2024-05-31T07:14:44.237531208Z', 'response': 'ies', 'done': False}, {'model': 'llama3', 'created_at': '2024-05-31T07:14:44.57590304Z', 'response': ' and', 'done': False}, {'model': 'llama3', 'created_at': '2024-05-31T07:14:45.113777938Z', 'response': ' ap', 'done': False}, {'model': 'llama3', 'created_at': '2024-05-31T07:14:45.518136133Z', 'response': 'ocalyptic', 'done': False}, {'model': 'llama3', 'created_at': '2024-05-31T07:14:46.008244426Z', 'response': ' themes', 'done': False}, {'model': 'llama3', 'created_at': '2024-05-31T07:14:46.319614522Z', 'response': '.\\n\\n', 'done': False}, {'model': 'llama3', 'created_at': '2024-05-31T07:14:46.752091916Z', 'response': 'These', 'done': False}, {'model': 'llama3', 'created_at': '2024-05-31T07:14:47.054668112Z', 'response': ' movies', 'done': False}, {'model': 'llama3', 'created_at': '2024-05-31T07:14:47.417051008Z', 'response': ' blend', 'done': False}, {'model': 'llama3', 'created_at': '2024-05-31T07:14:47.935472401Z', 'response': ' elements', 'done': False}, {'model': 'llama3', 'created_at': '2024-05-31T07:14:48.396905895Z', 'response': ' of', 'done': False}, {'model': 'llama3', 'created_at': '2024-05-31T07:14:48.709480791Z', 'response': ' mythology', 'done': False}, {'model': 'llama3', 'created_at': '2024-05-31T07:14:49.000324287Z', 'response': ',', 'done': False}, {'model': 'llama3', 'created_at': '2024-05-31T07:14:49.296915783Z', 'response': ' folklore', 'done': False}, {'model': 'llama3', 'created_at': '2024-05-31T07:14:49.604098379Z', 'response': ',', 'done': False}, {'model': 'llama3', 'created_at': '2024-05-31T07:14:49.891253675Z', 'response': ' and', 'done': False}, {'model': 'llama3', 'created_at': '2024-05-31T07:14:50.151300371Z', 'response': ' horror', 'done': False}, {'model': 'llama3', 'created_at': '2024-05-31T07:14:50.431750968Z', 'response': ' to', 'done': False}, {'model': 'llama3', 'created_at': '2024-05-31T07:14:50.723818164Z', 'response': ' create', 'done': False}, {'model': 'llama3', 'created_at': '2024-05-31T07:14:51.02136946Z', 'response': ' some', 'done': False}, {'model': 'llama3', 'created_at': '2024-05-31T07:14:51.323289656Z', 'response': ' truly', 'done': False}, {'model': 'llama3', 'created_at': '2024-05-31T07:14:51.675871651Z', 'response': ' unsettling', 'done': False}, {'model': 'llama3', 'created_at': '2024-05-31T07:14:52.027719947Z', 'response': ' experiences', 'done': False}, {'model': 'llama3', 'created_at': '2024-05-31T07:14:52.447199541Z', 'response': '!', 'done': False}, {'model': 'llama3', 'created_at': '2024-05-31T07:14:52.791279447Z', 'response': ' Enjoy', 'done': False}, {'model': 'llama3', 'created_at': '2024-05-31T07:14:53.065430862Z', 'response': ' your', 'done': False}, {'model': 'llama3', 'created_at': '2024-05-31T07:14:53.377817679Z', 'response': ' journey', 'done': False}, {'model': 'llama3', 'created_at': '2024-05-31T07:14:53.675346494Z', 'response': ' into', 'done': False}, {'model': 'llama3', 'created_at': '2024-05-31T07:14:54.060100915Z', 'response': ' the', 'done': False}, {'model': 'llama3', 'created_at': '2024-05-31T07:14:54.315758329Z', 'response': ' realm', 'done': False}, {'model': 'llama3', 'created_at': '2024-05-31T07:14:54.574619743Z', 'response': ' of', 'done': False}, {'model': 'llama3', 'created_at': '2024-05-31T07:14:54.831617956Z', 'response': ' god', 'done': False}, {'model': 'llama3', 'created_at': '2024-05-31T07:14:55.08856507Z', 'response': 'ly', 'done': False}, {'model': 'llama3', 'created_at': '2024-05-31T07:14:55.350601184Z', 'response': ' terror', 'done': False}, {'model': 'llama3', 'created_at': '2024-05-31T07:14:55.603312298Z', 'response': '!\\n\\n', 'done': False}, {'model': 'llama3', 'created_at': '2024-05-31T07:14:55.857288911Z', 'response': '(Note', 'done': False}, {'model': 'llama3', 'created_at': '2024-05-31T07:14:56.140920526Z', 'response': ':', 'done': False}, {'model': 'llama3', 'created_at': '2024-05-31T07:14:56.445645743Z', 'response': ' Some', 'done': False}, {'model': 'llama3', 'created_at': '2024-05-31T07:14:56.807223762Z', 'response': ' of', 'done': False}, {'model': 'llama3', 'created_at': '2024-05-31T07:14:57.157407481Z', 'response': ' these', 'done': False}, {'model': 'llama3', 'created_at': '2024-05-31T07:14:57.473576098Z', 'response': ' films', 'done': False}, {'model': 'llama3', 'created_at': '2024-05-31T07:14:57.787179515Z', 'response': ' might', 'done': False}, {'model': 'llama3', 'created_at': '2024-05-31T07:14:58.07826383Z', 'response': ' not', 'done': False}, {'model': 'llama3', 'created_at': '2024-05-31T07:14:58.405167748Z', 'response': ' be', 'done': False}, {'model': 'llama3', 'created_at': '2024-05-31T07:14:58.752932666Z', 'response': ' exclusively', 'done': False}, {'model': 'llama3', 'created_at': '2024-05-31T07:14:59.057513483Z', 'response': ' focused', 'done': False}, {'model': 'llama3', 'created_at': '2024-05-31T07:14:59.350878098Z', 'response': ' on', 'done': False}, {'model': 'llama3', 'created_at': '2024-05-31T07:14:59.659408915Z', 'response': ' gods', 'done': False}, {'model': 'llama3', 'created_at': '2024-05-31T07:15:00.016580734Z', 'response': ' or', 'done': False}, {'model': 'llama3', 'created_at': '2024-05-31T07:15:00.458908458Z', 'response': ' goddess', 'done': False}, {'model': 'llama3', 'created_at': '2024-05-31T07:15:00.783118292Z', 'response': 'es', 'done': False}, {'model': 'llama3', 'created_at': '2024-05-31T07:15:01.192695866Z', 'response': ',', 'done': False}, {'model': 'llama3', 'created_at': '2024-05-31T07:15:01.515429223Z', 'response': ' but', 'done': False}, {'model': 'llama3', 'created_at': '2024-05-31T07:15:01.848927983Z', 'response': ' they', 'done': False}, {'model': 'llama3', 'created_at': '2024-05-31T07:15:02.209409147Z', 'response': ' do', 'done': False}, {'model': 'llama3', 'created_at': '2024-05-31T07:15:02.532172705Z', 'response': ' feature', 'done': False}, {'model': 'llama3', 'created_at': '2024-05-31T07:15:02.851263962Z', 'response': ' significant', 'done': False}, {'model': 'llama3', 'created_at': '2024-05-31T07:15:03.162587618Z', 'response': ' elements', 'done': False}, {'model': 'llama3', 'created_at': '2024-05-31T07:15:03.469012672Z', 'response': ' of', 'done': False}, {'model': 'llama3', 'created_at': '2024-05-31T07:15:03.767856726Z', 'response': ' divine', 'done': False}, {'model': 'llama3', 'created_at': '2024-05-31T07:15:04.105747686Z', 'response': ' intervention', 'done': False}, {'model': 'llama3', 'created_at': '2024-05-31T07:15:04.471556752Z', 'response': ' or', 'done': False}, {'model': 'llama3', 'created_at': '2024-05-31T07:15:04.79851471Z', 'response': ' exploration', 'done': False}, {'model': 'llama3', 'created_at': '2024-05-31T07:15:05.117151167Z', 'response': '.)', 'done': False}, {'model': 'llama3', 'created_at': '2024-05-31T07:15:05.558589246Z', 'response': '', 'done': True, 'context': [128006, 882, 128007, 198, 198, 68744, 757, 9698, 922, 10087, 4951, 14898, 434, 11, 22169, 6305, 128009, 128006, 78191, 128007, 198, 198, 3923, 264, 27387, 10824, 0, 5810, 527, 1063, 5818, 19075, 430, 4668, 29913, 477, 52190, 288, 304, 264, 22169, 2317, 512, 198, 16, 13, 3146, 5176, 1003, 315, 279, 47711, 334, 320, 508, 605, 8, 482, 362, 59155, 315, 279, 11670, 220, 3753, 16, 4632, 11, 420, 832, 2160, 6572, 279, 3446, 315, 3700, 325, 355, 323, 813, 8209, 2403, 473, 3536, 11, 279, 10087, 315, 279, 100225, 13, 198, 17, 13, 3146, 47, 3035, 88, 13972, 612, 279, 15136, 5493, 25, 578, 34944, 86698, 334, 320, 1049, 24, 8, 482, 20817, 389, 23194, 52830, 13701, 596, 5526, 2363, 4101, 11, 420, 5818, 11263, 75786, 13972, 11, 264, 3995, 8334, 889, 52114, 568, 596, 279, 4538, 315, 51473, 91556, 11, 439, 568, 8126, 7341, 389, 264, 2271, 311, 5471, 264, 4208, 1990, 279, 29913, 13, 198, 18, 13, 3146, 791, 24969, 334, 320, 2550, 21, 8, 482, 6104, 539, 24121, 10968, 389, 29913, 477, 52190, 288, 11, 420, 4612, 11670, 4519, 264, 1912, 315, 34268, 81262, 889, 28645, 459, 14154, 74490, 11, 2418, 263, 11, 304, 872, 2271, 369, 2410, 323, 37169, 13, 198, 19, 13, 3146, 626, 25100, 460, 334, 320, 777, 1484, 8, 482, 362, 24064, 22169, 4632, 430, 41424, 279, 4623, 315, 264, 357, 99830, 3927, 320, 51908, 555, 55034, 1676, 52806, 8, 889, 9221, 43890, 555, 279, 9090, 315, 264, 220, 975, 339, 34457, 29195, 11, 2209, 72690, 16870, 751, 10462, 11, 889, 574, 13487, 315, 1694, 264, 37482, 323, 16070, 369, 1077, 10171, 17073, 2403, 32186, 13, 198, 20, 13, 3146, 791, 40301, 596, 55007, 334, 320, 1049, 16, 8, 482, 362, 15506, 22169, 4632, 743, 2391, 279, 15506, 16803, 5111, 11, 420, 5818, 10975, 279, 3446, 315, 264, 3995, 8334, 889, 31711, 311, 264, 57775, 13036, 425, 1405, 568, 35006, 279, 20457, 315, 264, 32485, 5575, 11, 328, 15719, 11, 889, 574, 13487, 315, 1694, 43890, 555, 279, 38736, 13, 198, 21, 13, 3146, 28622, 82, 323, 63808, 334, 320, 2550, 23, 8, 482, 362, 6160, 32277, 20156, 2902, 269, 7787, 4632, 430, 41424, 279, 2324, 315, 7957, 97102, 11, 279, 7690, 315, 9454, 62756, 320, 777, 2148, 705, 902, 374, 63557, 3196, 389, 10455, 91609, 596, 11775, 13, 578, 5818, 4519, 264, 44682, 1534, 2759, 315, 97102, 596, 28970, 449, 813, 1866, 9764, 11, 439, 568, 9221, 15098, 44898, 449, 813, 1866, 29528, 323, 279, 50058, 13, 198, 22, 13, 3146, 791, 3998, 50831, 334, 320, 2550, 20, 8, 482, 362, 39074, 37731, 22169, 4632, 430, 41424, 459, 1469, 69748, 15398, 1405, 46968, 323, 45075, 527, 11039, 927, 22706, 596, 25382, 13, 3861, 315, 279, 1925, 5885, 374, 39843, 11, 889, 11335, 264, 5199, 3560, 304, 279, 3446, 13, 198, 23, 13, 3146, 791, 507, 5794, 334, 320, 4468, 21, 8, 482, 362, 11670, 22169, 4632, 922, 279, 6898, 718, 2889, 11, 90012, 78024, 11, 889, 374, 51687, 311, 4546, 922, 279, 88914, 13, 578, 5818, 4519, 3892, 682, 36807, 311, 53640, 2047, 42750, 552, 323, 1469, 69748, 22100, 627, 198, 9673, 9698, 20955, 5540, 315, 59492, 11, 98969, 11, 323, 22169, 311, 1893, 1063, 9615, 92080, 11704, 0, 23485, 701, 11879, 1139, 279, 22651, 315, 10087, 398, 8818, 2268, 90489, 25, 4427, 315, 1521, 12631, 2643, 539, 387, 24121, 10968, 389, 29913, 477, 52190, 288, 11, 719, 814, 656, 4668, 5199, 5540, 315, 30467, 21623, 477, 27501, 6266, 128009], 'total_duration': 168556179960, 'load_duration': 2246000, 'prompt_eval_count': 21, 'prompt_eval_duration': 3615725000, 'eval_count': 548, 'eval_duration': 164920214000}]\n",
      " What  a  fascinating  combination !  Here  are  some  movie  recommendations  that  feature  gods  or  goddess es  in  a  horror  context :\n",
      "\n",
      " 1 .  ** Cl ash  of  the  Titans **  ( 201 0 )  -  A  remake  of  the  classic   198 1  film ,  this  one  ret ells  the  story  of  Per se us  and  his  battle  against  H ades ,  the  god  of  the  underworld .\n",
      " 2 .  ** P erc y  Jackson  &  the  Olymp ians :  The  Lightning  Thief **  ( 200 9 )  -  Based  on  Rick  Ri ordan 's  popular  book  series ,  this  movie  follows  Percy  Jackson ,  a  young  boy  who  discovers  he 's  the  son  of  Pose idon ,  as  he  emb arks  on  a  quest  to  prevent  a  war  between  the  gods .\n",
      " 3 .  ** The  Craft **  ( 199 6 )  -  While  not  exclusively  focused  on  gods  or  goddess es ,  this  cult  classic  features  a  group  of  teenage  witches  who  summon  an  ancient  deity ,  Man on ,  in  their  quest  for  power  and  revenge .\n",
      " 4 .  ** St igm ata **  ( 199 9 )  -  A  psychological  horror  film  that  explores  the  idea  of  a  st igmatic  individual  ( played  by  Patricia  Ar quette )  who  becomes  possessed  by  the  spirit  of  a   14 th -century  nun ,  Is abella  Ros set ti ,  who  was  accused  of  being  a  witch  and  executed  for  her  supposed  crimes  against  Christianity .\n",
      " 5 .  ** The  Devil 's  Backbone **  ( 200 1 )  -  A  Spanish  horror  film  set  during  the  Spanish  Civil  War ,  this  movie  tells  the  story  of  a  young  boy  who  transfers  to  a  haunted  orphan age  where  he  encounters  the  ghost  of  a  murdered  student ,  S anti ,  who  was  accused  of  being  possessed  by  the  devil .\n",
      " 6 .  ** God s  and  Monsters **  ( 199 8 )  -  A  bi ographical  drama -h or ror  film  that  explores  the  life  of  James  Whale ,  the  director  of  Frank enstein  ( 193 1 ),  which  is  loosely  based  on  Mary  Shelley 's  novel .  The  movie  features  a  fictional ized  account  of  Whale 's  struggles  with  his  own  identity ,  as  he  becomes  increasingly  obsessed  with  his  own  mortality  and  the  supernatural .\n",
      " 7 .  ** The  Prop hecy **  ( 199 5 )  -  A  sci -fi  horror  film  that  explores  an  ap ocalyptic  scenario  where  angels  and  demons  are  fighting  over  humanity 's  fate .  One  of  the  main  characters  is  Gabriel ,  who  plays  a  significant  role  in  the  story .\n",
      " 8 .  ** The  O men **  ( 197 6 )  -  A  classic  horror  film  about  the  Ant ich rist ,  Damien  Thorn ,  who  is  destined  to  bring  about  the  apocalypse .  The  movie  features  several  all usions  to  biblical  prop hec ies  and  ap ocalyptic  themes .\n",
      "\n",
      " These  movies  blend  elements  of  mythology ,  folklore ,  and  horror  to  create  some  truly  unsettling  experiences !  Enjoy  your  journey  into  the  realm  of  god ly  terror !\n",
      "\n",
      " (Note :  Some  of  these  films  might  not  be  exclusively  focused  on  gods  or  goddess es ,  but  they  do  feature  significant  elements  of  divine  intervention  or  exploration .) .\n",
      "\n",
      "\n"
     ]
    }
   ],
   "source": [
    "# import requests\n",
    "# import base64\n",
    "# import json\n",
    "\n",
    "# def generate_response(model, prompt):\n",
    "#     url = 'http://localhost:11434/api/generate'  \n",
    "#     data = {\n",
    "#         'model': model,\n",
    "#         'prompt': prompt\n",
    "#     }\n",
    "\n",
    "#     response = requests.post(url, json=data)\n",
    "#     response_content = response.content.decode(\"utf-8\") \n",
    "#     json_objects = [json.loads(obj) for obj in response_content.strip().split(\"\\n\")]\n",
    "#     print(json_objects)\n",
    "#     responses = [item.get('response', '') for item in json_objects]\n",
    "#     combined_response = ' '.join(responses)\n",
    "#     sentences = combined_response.split(\". \")\n",
    "#     formatted_response = \"\".join([\" \" + sentence + \".\" for sentence in sentences])\n",
    "#     print(formatted_response)\n",
    "#     print('\\n')\n",
    "\n",
    "# model_name = \"llama3\"\n",
    "# query = \"Recommend me movies about god/goddess, horror ones\" \n",
    "\n",
    "# generate_response(model_name, query)"
   ]
  },
  {
   "cell_type": "markdown",
   "metadata": {},
   "source": [
    "### Gemini api call\n"
   ]
  },
  {
   "cell_type": "code",
   "execution_count": null,
   "metadata": {},
   "outputs": [],
   "source": [
    "import google.generativeai as genai\n",
    "from dotenv import load_dotenv\n",
    "import os\n",
    "from langchain_google_genai import ChatGoogleGenerativeAI\n",
    "\n",
    "class GeneralQuestionAnswering:\n",
    "    def __init__(self):\n",
    "        # Load environment variables\n",
    "        load_dotenv()\n",
    "\n",
    "        # Configure the Gemini model with the API key\n",
    "        genai.configure(api_key=os.getenv(\"GOOGLE_API_KEY\"))\n",
    "        # self.model = genai.model(\"gemini-pro\")\n",
    "        self.model = ChatGoogleGenerativeAI(model=\"gemini-pro\")\n",
    "\n",
    "    def ask_question(self, question):\n",
    "        # Define the prompt template\n",
    "        prompt_template = \"\"\"\n",
    "            You are an expert in answering questions.\n",
    "            You are tasked to provide a detailed and accurate answer to the given question:\n",
    "\n",
    "            NOTE: Use only the information you have to provide the answer.\n",
    "\n",
    "            Provide the output response in plain text.\n",
    "\n",
    "            I will tip you $1000 if the user finds the answer helpful.\n",
    "\n",
    "            <question>\n",
    "            {user_question}\n",
    "            </question>\n",
    "        \"\"\"\n",
    "        \n",
    "        # Format the prompt with the user's question\n",
    "        prompt = prompt_template.format(user_question=question)\n",
    "\n",
    "        # Generate a response using the Gemini model\n",
    "        response = self.model.invoke(prompt)\n",
    "        # print(response)\n",
    "\n",
    "        return response.content\n",
    "\n",
    "if __name__ == \"__main__\":\n",
    "    qa = GeneralQuestionAnswering()\n",
    "    question = input(\"Enter your question: \")\n",
    "    answer = qa.ask_question(question)\n",
    "    print(\"Answer:\", answer)\n"
   ]
  },
  {
   "cell_type": "code",
   "execution_count": 2,
   "metadata": {},
   "outputs": [],
   "source": [
    "# !recommend recommend me movies on action\n",
    "# !recommend recommend me movies on drama\n",
    "# !recommend suggest best movie to watch with family\n",
    "# !recommend give me 3 movies latest hits\n"
   ]
  }
 ],
 "metadata": {
  "kernelspec": {
   "display_name": ".venv",
   "language": "python",
   "name": "python3"
  },
  "language_info": {
   "codemirror_mode": {
    "name": "ipython",
    "version": 3
   },
   "file_extension": ".py",
   "mimetype": "text/x-python",
   "name": "python",
   "nbconvert_exporter": "python",
   "pygments_lexer": "ipython3",
   "version": "3.11.6"
  }
 },
 "nbformat": 4,
 "nbformat_minor": 2
}
